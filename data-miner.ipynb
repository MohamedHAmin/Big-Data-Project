{
 "cells": [
  {
   "cell_type": "code",
   "execution_count": 0,
   "metadata": {
    "application/vnd.databricks.v1+cell": {
     "cellMetadata": {
      "byteLimit": 2048000,
      "rowLimit": 10000
     },
     "inputWidgets": {},
     "nuid": "697dbc2c-1dca-4629-9c32-7df596e8b35a",
     "showTitle": false,
     "title": ""
    }
   },
   "outputs": [],
   "source": [
    "import pyspark as ps\n",
    "import json\n",
    "from pyspark import SparkContext\n",
    "from pyspark.sql import SparkSession\n",
    "from pyspark.mllib.fpm import FPGrowth\n",
    "from pyspark.sql.functions import col, explode\n",
    "from pyspark.sql import functions as F"
   ]
  },
  {
   "cell_type": "code",
   "execution_count": 0,
   "metadata": {
    "application/vnd.databricks.v1+cell": {
     "cellMetadata": {
      "byteLimit": 2048000,
      "rowLimit": 10000
     },
     "inputWidgets": {},
     "nuid": "bdfd6870-e9b5-465f-b10b-22cb9265b6ad",
     "showTitle": false,
     "title": ""
    }
   },
   "outputs": [],
   "source": [
    "master_url = 'spark://spark-master:7077'\n",
    "SparkContext.setSystemProperty('spark.executor.memory', '24g')\n",
    "spark = SparkSession.builder.master(master_url).appName(\"data-miner\").getOrCreate()"
   ]
  },
  {
   "cell_type": "code",
   "execution_count": 0,
   "metadata": {
    "application/vnd.databricks.v1+cell": {
     "cellMetadata": {
      "byteLimit": 2048000,
      "rowLimit": 10000
     },
     "inputWidgets": {},
     "nuid": "f7276f93-ed33-4b6b-91c3-6f6db58f6097",
     "showTitle": false,
     "title": ""
    }
   },
   "outputs": [],
   "source": [
    "sc = spark.sparkContext"
   ]
  },
  {
   "cell_type": "code",
   "execution_count": 0,
   "metadata": {
    "application/vnd.databricks.v1+cell": {
     "cellMetadata": {
      "byteLimit": 2048000,
      "rowLimit": 10000
     },
     "inputWidgets": {},
     "nuid": "ec978f0f-c78b-43ec-85c4-4accc8541ee5",
     "showTitle": false,
     "title": ""
    }
   },
   "outputs": [],
   "source": [
    "dataset_path = 'dbfs:/matches-1k.json'\n",
    "league_df = spark.read.option(\"inferTimestamp\", \"false\").option(\"mode\", \"DROPMALFORMED\").json(dataset_path)"
   ]
  },
  {
   "cell_type": "code",
   "execution_count": 0,
   "metadata": {
    "application/vnd.databricks.v1+cell": {
     "cellMetadata": {
      "byteLimit": 2048000,
      "rowLimit": 10000
     },
     "inputWidgets": {},
     "nuid": "8515b5c6-9353-4b40-9617-b822226d02c5",
     "showTitle": false,
     "title": ""
    }
   },
   "outputs": [
    {
     "output_type": "stream",
     "name": "stdout",
     "output_type": "stream",
     "text": [
      "root\n |-- _id: struct (nullable = true)\n |    |-- $oid: string (nullable = true)\n |-- gameCreation: long (nullable = true)\n |-- gameDuration: long (nullable = true)\n |-- gameId: long (nullable = true)\n |-- gameMode: string (nullable = true)\n |-- gameType: string (nullable = true)\n |-- gameVersion: string (nullable = true)\n |-- mapId: long (nullable = true)\n |-- participantIdentities: array (nullable = true)\n |    |-- element: struct (containsNull = true)\n |    |    |-- participantId: long (nullable = true)\n |    |    |-- player: struct (nullable = true)\n |    |    |    |-- accountId: string (nullable = true)\n |    |    |    |-- currentAccountId: string (nullable = true)\n |    |    |    |-- currentPlatformId: string (nullable = true)\n |    |    |    |-- matchHistoryUri: string (nullable = true)\n |    |    |    |-- platformId: string (nullable = true)\n |    |    |    |-- profileIcon: long (nullable = true)\n |    |    |    |-- summonerId: string (nullable = true)\n |    |    |    |-- summonerName: string (nullable = true)\n |-- participants: array (nullable = true)\n |    |-- element: struct (containsNull = true)\n |    |    |-- championId: string (nullable = true)\n |    |    |-- participantId: long (nullable = true)\n |    |    |-- spell1Id: string (nullable = true)\n |    |    |-- spell2Id: string (nullable = true)\n |    |    |-- stats: struct (nullable = true)\n |    |    |    |-- assists: long (nullable = true)\n |    |    |    |-- champLevel: long (nullable = true)\n |    |    |    |-- combatPlayerScore: long (nullable = true)\n |    |    |    |-- damageDealtToObjectives: long (nullable = true)\n |    |    |    |-- damageDealtToTurrets: long (nullable = true)\n |    |    |    |-- damageSelfMitigated: long (nullable = true)\n |    |    |    |-- deaths: long (nullable = true)\n |    |    |    |-- doubleKills: long (nullable = true)\n |    |    |    |-- firstBloodAssist: boolean (nullable = true)\n |    |    |    |-- firstBloodKill: boolean (nullable = true)\n |    |    |    |-- firstInhibitorAssist: boolean (nullable = true)\n |    |    |    |-- firstInhibitorKill: boolean (nullable = true)\n |    |    |    |-- firstTowerAssist: boolean (nullable = true)\n |    |    |    |-- firstTowerKill: boolean (nullable = true)\n |    |    |    |-- goldEarned: long (nullable = true)\n |    |    |    |-- goldSpent: long (nullable = true)\n |    |    |    |-- inhibitorKills: long (nullable = true)\n |    |    |    |-- item0: struct (nullable = true)\n |    |    |    |    |-- from: array (nullable = true)\n |    |    |    |    |    |-- element: string (containsNull = true)\n |    |    |    |    |-- gold: struct (nullable = true)\n |    |    |    |    |    |-- base: long (nullable = true)\n |    |    |    |    |    |-- purchasable: boolean (nullable = true)\n |    |    |    |    |    |-- sell: long (nullable = true)\n |    |    |    |    |    |-- total: long (nullable = true)\n |    |    |    |    |-- into: array (nullable = true)\n |    |    |    |    |    |-- element: string (containsNull = true)\n |    |    |    |    |-- name: string (nullable = true)\n |    |    |    |    |-- stats: struct (nullable = true)\n |    |    |    |    |    |-- FlatArmorMod: long (nullable = true)\n |    |    |    |    |    |-- FlatCritChanceMod: double (nullable = true)\n |    |    |    |    |    |-- FlatHPPoolMod: long (nullable = true)\n |    |    |    |    |    |-- FlatHPRegenMod: double (nullable = true)\n |    |    |    |    |    |-- FlatMPPoolMod: long (nullable = true)\n |    |    |    |    |    |-- FlatMagicDamageMod: long (nullable = true)\n |    |    |    |    |    |-- FlatMovementSpeedMod: long (nullable = true)\n |    |    |    |    |    |-- FlatPhysicalDamageMod: long (nullable = true)\n |    |    |    |    |    |-- FlatSpellBlockMod: long (nullable = true)\n |    |    |    |    |    |-- PercentAttackSpeedMod: double (nullable = true)\n |    |    |    |    |    |-- PercentLifeStealMod: double (nullable = true)\n |    |    |    |    |    |-- PercentMovementSpeedMod: double (nullable = true)\n |    |    |    |    |-- tags: array (nullable = true)\n |    |    |    |    |    |-- element: string (containsNull = true)\n |    |    |    |-- item1: struct (nullable = true)\n |    |    |    |    |-- from: array (nullable = true)\n |    |    |    |    |    |-- element: string (containsNull = true)\n |    |    |    |    |-- gold: struct (nullable = true)\n |    |    |    |    |    |-- base: long (nullable = true)\n |    |    |    |    |    |-- purchasable: boolean (nullable = true)\n |    |    |    |    |    |-- sell: long (nullable = true)\n |    |    |    |    |    |-- total: long (nullable = true)\n |    |    |    |    |-- into: array (nullable = true)\n |    |    |    |    |    |-- element: string (containsNull = true)\n |    |    |    |    |-- name: string (nullable = true)\n |    |    |    |    |-- stats: struct (nullable = true)\n |    |    |    |    |    |-- FlatArmorMod: long (nullable = true)\n |    |    |    |    |    |-- FlatCritChanceMod: double (nullable = true)\n |    |    |    |    |    |-- FlatHPPoolMod: long (nullable = true)\n |    |    |    |    |    |-- FlatHPRegenMod: double (nullable = true)\n |    |    |    |    |    |-- FlatMPPoolMod: long (nullable = true)\n |    |    |    |    |    |-- FlatMagicDamageMod: long (nullable = true)\n |    |    |    |    |    |-- FlatMovementSpeedMod: long (nullable = true)\n |    |    |    |    |    |-- FlatPhysicalDamageMod: long (nullable = true)\n |    |    |    |    |    |-- FlatSpellBlockMod: long (nullable = true)\n |    |    |    |    |    |-- PercentAttackSpeedMod: double (nullable = true)\n |    |    |    |    |    |-- PercentLifeStealMod: double (nullable = true)\n |    |    |    |    |    |-- PercentMovementSpeedMod: double (nullable = true)\n |    |    |    |    |-- tags: array (nullable = true)\n |    |    |    |    |    |-- element: string (containsNull = true)\n |    |    |    |-- item2: struct (nullable = true)\n |    |    |    |    |-- from: array (nullable = true)\n |    |    |    |    |    |-- element: string (containsNull = true)\n |    |    |    |    |-- gold: struct (nullable = true)\n |    |    |    |    |    |-- base: long (nullable = true)\n |    |    |    |    |    |-- purchasable: boolean (nullable = true)\n |    |    |    |    |    |-- sell: long (nullable = true)\n |    |    |    |    |    |-- total: long (nullable = true)\n |    |    |    |    |-- into: array (nullable = true)\n |    |    |    |    |    |-- element: string (containsNull = true)\n |    |    |    |    |-- name: string (nullable = true)\n |    |    |    |    |-- stats: struct (nullable = true)\n |    |    |    |    |    |-- FlatArmorMod: long (nullable = true)\n |    |    |    |    |    |-- FlatCritChanceMod: double (nullable = true)\n |    |    |    |    |    |-- FlatHPPoolMod: long (nullable = true)\n |    |    |    |    |    |-- FlatHPRegenMod: double (nullable = true)\n |    |    |    |    |    |-- FlatMPPoolMod: long (nullable = true)\n |    |    |    |    |    |-- FlatMagicDamageMod: long (nullable = true)\n |    |    |    |    |    |-- FlatMovementSpeedMod: long (nullable = true)\n |    |    |    |    |    |-- FlatPhysicalDamageMod: long (nullable = true)\n |    |    |    |    |    |-- FlatSpellBlockMod: long (nullable = true)\n |    |    |    |    |    |-- PercentAttackSpeedMod: double (nullable = true)\n |    |    |    |    |    |-- PercentLifeStealMod: double (nullable = true)\n |    |    |    |    |    |-- PercentMovementSpeedMod: double (nullable = true)\n |    |    |    |    |-- tags: array (nullable = true)\n |    |    |    |    |    |-- element: string (containsNull = true)\n |    |    |    |-- item3: struct (nullable = true)\n |    |    |    |    |-- from: array (nullable = true)\n |    |    |    |    |    |-- element: string (containsNull = true)\n |    |    |    |    |-- gold: struct (nullable = true)\n |    |    |    |    |    |-- base: long (nullable = true)\n |    |    |    |    |    |-- purchasable: boolean (nullable = true)\n |    |    |    |    |    |-- sell: long (nullable = true)\n |    |    |    |    |    |-- total: long (nullable = true)\n |    |    |    |    |-- into: array (nullable = true)\n |    |    |    |    |    |-- element: string (containsNull = true)\n |    |    |    |    |-- name: string (nullable = true)\n |    |    |    |    |-- stats: struct (nullable = true)\n |    |    |    |    |    |-- FlatArmorMod: long (nullable = true)\n |    |    |    |    |    |-- FlatCritChanceMod: double (nullable = true)\n |    |    |    |    |    |-- FlatHPPoolMod: long (nullable = true)\n |    |    |    |    |    |-- FlatHPRegenMod: double (nullable = true)\n |    |    |    |    |    |-- FlatMPPoolMod: long (nullable = true)\n |    |    |    |    |    |-- FlatMagicDamageMod: long (nullable = true)\n |    |    |    |    |    |-- FlatMovementSpeedMod: long (nullable = true)\n |    |    |    |    |    |-- FlatPhysicalDamageMod: long (nullable = true)\n |    |    |    |    |    |-- FlatSpellBlockMod: long (nullable = true)\n |    |    |    |    |    |-- PercentAttackSpeedMod: double (nullable = true)\n |    |    |    |    |    |-- PercentLifeStealMod: double (nullable = true)\n |    |    |    |    |    |-- PercentMovementSpeedMod: double (nullable = true)\n |    |    |    |    |-- tags: array (nullable = true)\n |    |    |    |    |    |-- element: string (containsNull = true)\n |    |    |    |-- item4: struct (nullable = true)\n |    |    |    |    |-- from: array (nullable = true)\n |    |    |    |    |    |-- element: string (containsNull = true)\n |    |    |    |    |-- gold: struct (nullable = true)\n |    |    |    |    |    |-- base: long (nullable = true)\n |    |    |    |    |    |-- purchasable: boolean (nullable = true)\n |    |    |    |    |    |-- sell: long (nullable = true)\n |    |    |    |    |    |-- total: long (nullable = true)\n |    |    |    |    |-- into: array (nullable = true)\n |    |    |    |    |    |-- element: string (containsNull = true)\n |    |    |    |    |-- name: string (nullable = true)\n |    |    |    |    |-- stats: struct (nullable = true)\n |    |    |    |    |    |-- FlatArmorMod: long (nullable = true)\n |    |    |    |    |    |-- FlatCritChanceMod: double (nullable = true)\n |    |    |    |    |    |-- FlatHPPoolMod: long (nullable = true)\n |    |    |    |    |    |-- FlatHPRegenMod: double (nullable = true)\n |    |    |    |    |    |-- FlatMPPoolMod: long (nullable = true)\n |    |    |    |    |    |-- FlatMagicDamageMod: long (nullable = true)\n |    |    |    |    |    |-- FlatMovementSpeedMod: long (nullable = true)\n |    |    |    |    |    |-- FlatPhysicalDamageMod: long (nullable = true)\n |    |    |    |    |    |-- FlatSpellBlockMod: long (nullable = true)\n |    |    |    |    |    |-- PercentAttackSpeedMod: double (nullable = true)\n |    |    |    |    |    |-- PercentLifeStealMod: double (nullable = true)\n |    |    |    |    |    |-- PercentMovementSpeedMod: double (nullable = true)\n |    |    |    |    |-- tags: array (nullable = true)\n |    |    |    |    |    |-- element: string (containsNull = true)\n |    |    |    |-- item5: struct (nullable = true)\n |    |    |    |    |-- from: array (nullable = true)\n |    |    |    |    |    |-- element: string (containsNull = true)\n |    |    |    |    |-- gold: struct (nullable = true)\n |    |    |    |    |    |-- base: long (nullable = true)\n |    |    |    |    |    |-- purchasable: boolean (nullable = true)\n |    |    |    |    |    |-- sell: long (nullable = true)\n |    |    |    |    |    |-- total: long (nullable = true)\n |    |    |    |    |-- into: array (nullable = true)\n |    |    |    |    |    |-- element: string (containsNull = true)\n |    |    |    |    |-- name: string (nullable = true)\n |    |    |    |    |-- stats: struct (nullable = true)\n |    |    |    |    |    |-- FlatArmorMod: long (nullable = true)\n |    |    |    |    |    |-- FlatCritChanceMod: double (nullable = true)\n |    |    |    |    |    |-- FlatHPPoolMod: long (nullable = true)\n |    |    |    |    |    |-- FlatHPRegenMod: double (nullable = true)\n |    |    |    |    |    |-- FlatMPPoolMod: long (nullable = true)\n |    |    |    |    |    |-- FlatMagicDamageMod: long (nullable = true)\n |    |    |    |    |    |-- FlatMovementSpeedMod: long (nullable = true)\n |    |    |    |    |    |-- FlatPhysicalDamageMod: long (nullable = true)\n |    |    |    |    |    |-- FlatSpellBlockMod: long (nullable = true)\n |    |    |    |    |    |-- PercentAttackSpeedMod: double (nullable = true)\n |    |    |    |    |    |-- PercentLifeStealMod: double (nullable = true)\n |    |    |    |    |    |-- PercentMovementSpeedMod: double (nullable = true)\n |    |    |    |    |-- tags: array (nullable = true)\n |    |    |    |    |    |-- element: string (containsNull = true)\n |    |    |    |-- item6: struct (nullable = true)\n |    |    |    |    |-- from: array (nullable = true)\n |    |    |    |    |    |-- element: string (containsNull = true)\n |    |    |    |    |-- gold: struct (nullable = true)\n |    |    |    |    |    |-- base: long (nullable = true)\n |    |    |    |    |    |-- purchasable: boolean (nullable = true)\n |    |    |    |    |    |-- sell: long (nullable = true)\n |    |    |    |    |    |-- total: long (nullable = true)\n |    |    |    |    |-- into: array (nullable = true)\n |    |    |    |    |    |-- element: string (containsNull = true)\n |    |    |    |    |-- name: string (nullable = true)\n |    |    |    |    |-- tags: array (nullable = true)\n |    |    |    |    |    |-- element: string (containsNull = true)\n |    |    |    |-- killingSprees: long (nullable = true)\n |    |    |    |-- kills: long (nullable = true)\n |    |    |    |-- largestCriticalStrike: long (nullable = true)\n |    |    |    |-- largestKillingSpree: long (nullable = true)\n |    |    |    |-- largestMultiKill: long (nullable = true)\n |    |    |    |-- longestTimeSpentLiving: long (nullable = true)\n |    |    |    |-- magicDamageDealt: long (nullable = true)\n |    |    |    |-- magicDamageDealtToChampions: long (nullable = true)\n |    |    |    |-- magicalDamageTaken: long (nullable = true)\n |    |    |    |-- neutralMinionsKilled: long (nullable = true)\n |    |    |    |-- neutralMinionsKilledEnemyJungle: long (nullable = true)\n |    |    |    |-- neutralMinionsKilledTeamJungle: long (nullable = true)\n |    |    |    |-- objectivePlayerScore: long (nullable = true)\n |    |    |    |-- participantId: long (nullable = true)\n |    |    |    |-- pentaKills: long (nullable = true)\n |    |    |    |-- perk0: string (nullable = true)\n |    |    |    |-- perk0Var1: long (nullable = true)\n |    |    |    |-- perk0Var2: long (nullable = true)\n |    |    |    |-- perk0Var3: long (nullable = true)\n |    |    |    |-- perk1: string (nullable = true)\n |    |    |    |-- perk1Var1: long (nullable = true)\n |    |    |    |-- perk1Var2: long (nullable = true)\n |    |    |    |-- perk1Var3: long (nullable = true)\n |    |    |    |-- perk2: string (nullable = true)\n |    |    |    |-- perk2Var1: long (nullable = true)\n |    |    |    |-- perk2Var2: long (nullable = true)\n |    |    |    |-- perk2Var3: long (nullable = true)\n |    |    |    |-- perk3: string (nullable = true)\n |    |    |    |-- perk3Var1: long (nullable = true)\n |    |    |    |-- perk3Var2: long (nullable = true)\n |    |    |    |-- perk3Var3: long (nullable = true)\n |    |    |    |-- perk4: string (nullable = true)\n |    |    |    |-- perk4Var1: long (nullable = true)\n |    |    |    |-- perk4Var2: long (nullable = true)\n |    |    |    |-- perk4Var3: long (nullable = true)\n |    |    |    |-- perk5: string (nullable = true)\n |    |    |    |-- perk5Var1: long (nullable = true)\n |    |    |    |-- perk5Var2: long (nullable = true)\n |    |    |    |-- perk5Var3: long (nullable = true)\n |    |    |    |-- perkPrimaryStyle: string (nullable = true)\n |    |    |    |-- perkSubStyle: string (nullable = true)\n |    |    |    |-- physicalDamageDealt: long (nullable = true)\n |    |    |    |-- physicalDamageDealtToChampions: long (nullable = true)\n |    |    |    |-- physicalDamageTaken: long (nullable = true)\n |    |    |    |-- playerScore0: long (nullable = true)\n |    |    |    |-- playerScore1: long (nullable = true)\n |    |    |    |-- playerScore2: long (nullable = true)\n |    |    |    |-- playerScore3: long (nullable = true)\n |    |    |    |-- playerScore4: long (nullable = true)\n |    |    |    |-- playerScore5: long (nullable = true)\n |    |    |    |-- playerScore6: long (nullable = true)\n |    |    |    |-- playerScore7: long (nullable = true)\n |    |    |    |-- playerScore8: long (nullable = true)\n |    |    |    |-- playerScore9: long (nullable = true)\n |    |    |    |-- quadraKills: long (nullable = true)\n |    |    |    |-- sightWardsBoughtInGame: long (nullable = true)\n |    |    |    |-- statPerk0: string (nullable = true)\n |    |    |    |-- statPerk1: string (nullable = true)\n |    |    |    |-- statPerk2: string (nullable = true)\n |    |    |    |-- timeCCingOthers: long (nullable = true)\n |    |    |    |-- totalDamageDealt: long (nullable = true)\n |    |    |    |-- totalDamageDealtToChampions: long (nullable = true)\n |    |    |    |-- totalDamageTaken: long (nullable = true)\n |    |    |    |-- totalHeal: long (nullable = true)\n |    |    |    |-- totalMinionsKilled: long (nullable = true)\n |    |    |    |-- totalPlayerScore: long (nullable = true)\n |    |    |    |-- totalScoreRank: long (nullable = true)\n |    |    |    |-- totalTimeCrowdControlDealt: long (nullable = true)\n |    |    |    |-- totalUnitsHealed: long (nullable = true)\n |    |    |    |-- tripleKills: long (nullable = true)\n |    |    |    |-- trueDamageDealt: long (nullable = true)\n |    |    |    |-- trueDamageDealtToChampions: long (nullable = true)\n |    |    |    |-- trueDamageTaken: long (nullable = true)\n |    |    |    |-- turretKills: long (nullable = true)\n |    |    |    |-- unrealKills: long (nullable = true)\n |    |    |    |-- visionScore: long (nullable = true)\n |    |    |    |-- visionWardsBoughtInGame: long (nullable = true)\n |    |    |    |-- wardsKilled: long (nullable = true)\n |    |    |    |-- wardsPlaced: long (nullable = true)\n |    |    |    |-- win: boolean (nullable = true)\n |    |    |-- teamId: string (nullable = true)\n |    |    |-- timeline: struct (nullable = true)\n |    |    |    |-- creepsPerMinDeltas: struct (nullable = true)\n |    |    |    |    |-- 0-10: double (nullable = true)\n |    |    |    |    |-- 10-20: double (nullable = true)\n |    |    |    |    |-- 20-30: double (nullable = true)\n |    |    |    |    |-- 30-end: double (nullable = true)\n |    |    |    |-- csDiffPerMinDeltas: struct (nullable = true)\n |    |    |    |    |-- 0-10: double (nullable = true)\n |    |    |    |    |-- 10-20: double (nullable = true)\n |    |    |    |    |-- 20-30: double (nullable = true)\n |    |    |    |    |-- 30-end: double (nullable = true)\n |    |    |    |-- damageTakenDiffPerMinDeltas: struct (nullable = true)\n |    |    |    |    |-- 0-10: double (nullable = true)\n |    |    |    |    |-- 10-20: double (nullable = true)\n |    |    |    |    |-- 20-30: double (nullable = true)\n |    |    |    |    |-- 30-end: double (nullable = true)\n |    |    |    |-- damageTakenPerMinDeltas: struct (nullable = true)\n |    |    |    |    |-- 0-10: double (nullable = true)\n |    |    |    |    |-- 10-20: double (nullable = true)\n |    |    |    |    |-- 20-30: double (nullable = true)\n |    |    |    |    |-- 30-end: double (nullable = true)\n |    |    |    |-- goldPerMinDeltas: struct (nullable = true)\n |    |    |    |    |-- 0-10: double (nullable = true)\n |    |    |    |    |-- 10-20: double (nullable = true)\n |    |    |    |    |-- 20-30: double (nullable = true)\n |    |    |    |    |-- 30-end: double (nullable = true)\n |    |    |    |-- lane: string (nullable = true)\n |    |    |    |-- participantId: long (nullable = true)\n |    |    |    |-- role: string (nullable = true)\n |    |    |    |-- xpDiffPerMinDeltas: struct (nullable = true)\n |    |    |    |    |-- 0-10: double (nullable = true)\n |    |    |    |    |-- 10-20: double (nullable = true)\n |    |    |    |    |-- 20-30: double (nullable = true)\n |    |    |    |    |-- 30-end: double (nullable = true)\n |    |    |    |-- xpPerMinDeltas: struct (nullable = true)\n |    |    |    |    |-- 0-10: double (nullable = true)\n |    |    |    |    |-- 10-20: double (nullable = true)\n |    |    |    |    |-- 20-30: double (nullable = true)\n |    |    |    |    |-- 30-end: double (nullable = true)\n |-- platformId: string (nullable = true)\n |-- queueId: long (nullable = true)\n |-- seasonId: long (nullable = true)\n |-- teams: array (nullable = true)\n |    |-- element: struct (containsNull = true)\n |    |    |-- bans: array (nullable = true)\n |    |    |    |-- element: struct (containsNull = true)\n |    |    |    |    |-- championId: string (nullable = true)\n |    |    |    |    |-- pickTurn: long (nullable = true)\n |    |    |-- baronKills: long (nullable = true)\n |    |    |-- dominionVictoryScore: long (nullable = true)\n |    |    |-- dragonKills: long (nullable = true)\n |    |    |-- firstBaron: boolean (nullable = true)\n |    |    |-- firstBlood: boolean (nullable = true)\n |    |    |-- firstDragon: boolean (nullable = true)\n |    |    |-- firstInhibitor: boolean (nullable = true)\n |    |    |-- firstRiftHerald: boolean (nullable = true)\n |    |    |-- firstTower: boolean (nullable = true)\n |    |    |-- inhibitorKills: long (nullable = true)\n |    |    |-- riftHeraldKills: long (nullable = true)\n |    |    |-- teamId: string (nullable = true)\n |    |    |-- towerKills: long (nullable = true)\n |    |    |-- vilemawKills: long (nullable = true)\n |    |    |-- win: string (nullable = true)\n\n"
     ]
    }
   ],
   "source": [
    "league_df.printSchema()"
   ]
  },
  {
   "cell_type": "code",
   "execution_count": 0,
   "metadata": {
    "application/vnd.databricks.v1+cell": {
     "cellMetadata": {
      "byteLimit": 2048000,
      "rowLimit": 10000
     },
     "inputWidgets": {},
     "nuid": "a4672413-eee5-49ef-a18f-61cd375e5606",
     "showTitle": false,
     "title": ""
    }
   },
   "outputs": [
    {
     "output_type": "stream",
     "name": "stdout",
     "output_type": "stream",
     "text": [
      "root\n |-- participants: array (nullable = true)\n |    |-- element: struct (containsNull = true)\n |    |    |-- championId: string (nullable = true)\n |    |    |-- spell1Id: string (nullable = true)\n |    |    |-- spell2Id: string (nullable = true)\n |    |    |-- stats: struct (nullable = true)\n |    |    |    |-- item0: struct (nullable = true)\n |    |    |    |    |-- name: string (nullable = true)\n |    |    |    |-- item1: struct (nullable = true)\n |    |    |    |    |-- name: string (nullable = true)\n |    |    |    |-- item2: struct (nullable = true)\n |    |    |    |    |-- name: string (nullable = true)\n |    |    |    |-- item3: struct (nullable = true)\n |    |    |    |    |-- name: string (nullable = true)\n |    |    |    |-- item4: struct (nullable = true)\n |    |    |    |    |-- name: string (nullable = true)\n |    |    |    |-- item5: struct (nullable = true)\n |    |    |    |    |-- name: string (nullable = true)\n |    |    |    |-- item6: struct (nullable = true)\n |    |    |    |    |-- name: string (nullable = true)\n |    |    |    |-- perk0: string (nullable = true)\n |    |    |    |-- perk1: string (nullable = true)\n |    |    |    |-- perk2: string (nullable = true)\n |    |    |    |-- perk3: string (nullable = true)\n |    |    |    |-- perk4: string (nullable = true)\n |    |    |    |-- perk5: string (nullable = true)\n |    |    |    |-- win: boolean (nullable = true)\n\n"
     ]
    }
   ],
   "source": [
    "cleansed_league_df = league_df\n",
    "cleansed_league_df = cleansed_league_df.drop('_id', 'gameCreation', 'gameDuration', 'gameId', 'gameMode', 'gameType', 'gameVersion', 'mapId', 'participantIdentities', 'platformId', 'queueId', 'seasonId', 'teams') # can use teams\n",
    "cleansed_league_df = cleansed_league_df.withColumn(\"participants\",\n",
    "    F.transform(\n",
    "        cleansed_league_df[\"participants\"],\n",
    "        lambda x: x.withField(\"stats\", \n",
    "                                x[\"stats\"].dropFields('assists', 'champLevel', 'combatPlayerScore',\n",
    "                                    'damageDealtToObjectives', 'damageDealtToTurrets', 'damageSelfMitigated', 'deaths', 'doubleKills',\n",
    "                                    'firstBloodAssist', 'firstBloodKill', 'firstInhibitorAssist', 'firstInhibitorKill', \n",
    "                                    'firstTowerAssist', 'firstTowerKill', 'goldEarned', 'goldSpent', 'inhibitorKills',\n",
    "                                    'killingSprees', 'kills', 'largestCriticalStrike', 'largestKillingSpree',\n",
    "                                    'largestMultiKill', 'longestTimeSpentLiving', 'magicDamageDealt', \n",
    "                                    'magicDamageDealtToChampions', 'magicalDamageTaken', 'neutralMinionsKilled', \n",
    "                                    'neutralMinionsKilledEnemyJungle', 'neutralMinionsKilledTeamJungle', \n",
    "                                    'objectivePlayerScore', 'participantId', 'pentaKills', \n",
    "                                    'perk0Var1', 'perk0Var2', 'perk0Var3', 'perk1Var1', 'perk1Var2', \n",
    "                                    'perk1Var3', 'perk2Var1', 'perk2Var2', 'perk2Var3', \n",
    "                                    'perk3Var1', 'perk3Var2', 'perk3Var3', 'perk4Var1', 'perk4Var2', \n",
    "                                    'perk4Var3', 'perk5Var1', 'perk5Var2', 'perk5Var3', 'perkPrimaryStyle', \n",
    "                                    'perkSubStyle', 'physicalDamageDealt', 'physicalDamageDealtToChampions', \n",
    "                                    'physicalDamageTaken', 'playerScore0', 'playerScore1', 'playerScore2', \n",
    "                                    'playerScore3', 'playerScore4', 'playerScore5', 'playerScore6', 'playerScore7', \n",
    "                                    'playerScore8', 'playerScore9', 'quadraKills', 'sightWardsBoughtInGame', \n",
    "                                    'statPerk0', 'statPerk1', 'statPerk2', 'timeCCingOthers', 'totalDamageDealt', \n",
    "                                    'totalDamageDealtToChampions', 'totalDamageTaken', 'totalHeal', 'totalMinionsKilled', \n",
    "                                    'totalPlayerScore', 'totalScoreRank', 'totalTimeCrowdControlDealt', 'totalUnitsHealed', \n",
    "                                    'tripleKills', 'trueDamageDealt', 'trueDamageDealtToChampions', 'trueDamageTaken', \n",
    "                                    'turretKills', 'unrealKills', 'visionScore', 'visionWardsBoughtInGame', 'wardsKilled', \n",
    "                                    'wardsPlaced')\n",
    "                            )\n",
    "    )\n",
    ")\n",
    "cleansed_league_df = cleansed_league_df.withColumn(\"participants\", \n",
    "    F.transform(\n",
    "        cleansed_league_df[\"participants\"],\n",
    "        lambda x: x.dropFields('timeline', 'participantId', 'killingSprees', 'kills', 'largestCriticalStrike', 'largestKillingSpree', 'largestMultiKill', 'longestTimeSpentLiving', 'magicDamageDealt', 'magicDamageDealtToChampions', 'magicalDamageTaken', 'neutralMinionsKilled', 'neutralMinionsKilledEnemyJungle', 'neutralMinionsKilledTeamJungle', 'objectivePlayerScore', 'participantId', 'pentaKills', 'perk0', 'perk0Var1', 'perk0Var2', 'perk0Var3', 'perk1', 'perk1Var1', 'perk1Var2', 'perk1Var3', 'perk2', 'perk2Var1', 'perk2Var2', 'perk2Var3', 'perk3', 'perk3Var1', 'perk3Var2', 'perk3Var3', 'perk4', 'perk4Var1', 'perk4Var2', 'perk4Var3', 'perk5', 'perk5Var1', 'perk5Var2', 'perk5Var3', 'perkPrimaryStyle', 'perkSubStyle', 'physicalDamageDealt', 'physicalDamageDealtToChampions', 'physicalDamageTaken', 'playerScore0', 'playerScore1', 'playerScore2', 'playerScore3', 'playerScore4', 'playerScore5', 'playerScore6', 'playerScore7', 'playerScore8', 'playerScore9', 'quadraKills', 'sightWardsBoughtInGame', 'statPerk0', 'statPerk1', 'statPerk2', 'timeCCingOthers', 'totalDamageDealt', 'totalDamageDealtToChampions', 'totalDamageTaken', 'totalHeal', 'totalMinionsKilled', 'totalPlayerScore', 'totalScoreRank', 'totalTimeCrowdControlDealt', 'totalUnitsHealed', 'tripleKills', 'trueDamageDealt', 'trueDamageDealtToChampions', 'trueDamageTaken', 'turretKills', 'unrealKills', 'visionScore', 'visionWardsBoughtInGame', 'wardsKilled', 'wardsPlaced', 'teamId') # can use timeline later\n",
    "    )\n",
    ")\n",
    "for i in range(7):\n",
    "    item = \"item\" + str(i)\n",
    "    cleansed_league_df = cleansed_league_df.withColumn(\"participants\", \n",
    "        F.transform(\n",
    "            cleansed_league_df[\"participants\"],\n",
    "            lambda x: x.withField(\"stats\" , \n",
    "                x[\"stats\"].withField(item, \n",
    "                    x[\"stats\"][item].dropFields('from', 'gold', 'into', 'stats', 'tags')\n",
    "                )\n",
    "            )\n",
    "        )\n",
    "    )\n",
    "\n",
    "cleansed_league_df.printSchema()"
   ]
  },
  {
   "cell_type": "code",
   "execution_count": 0,
   "metadata": {
    "application/vnd.databricks.v1+cell": {
     "cellMetadata": {
      "byteLimit": 2048000,
      "rowLimit": 10000
     },
     "inputWidgets": {},
     "nuid": "a6241ce6-d1c7-4ecb-a596-c6ac230147e6",
     "showTitle": false,
     "title": ""
    }
   },
   "outputs": [
    {
     "output_type": "stream",
     "name": "stdout",
     "output_type": "stream",
     "text": [
      "root\n |-- participants_exploded: struct (nullable = true)\n |    |-- championId: string (nullable = true)\n |    |-- spell1Id: string (nullable = true)\n |    |-- spell2Id: string (nullable = true)\n |    |-- stats: struct (nullable = true)\n |    |    |-- item0: struct (nullable = true)\n |    |    |    |-- name: string (nullable = true)\n |    |    |-- item1: struct (nullable = true)\n |    |    |    |-- name: string (nullable = true)\n |    |    |-- item2: struct (nullable = true)\n |    |    |    |-- name: string (nullable = true)\n |    |    |-- item3: struct (nullable = true)\n |    |    |    |-- name: string (nullable = true)\n |    |    |-- item4: struct (nullable = true)\n |    |    |    |-- name: string (nullable = true)\n |    |    |-- item5: struct (nullable = true)\n |    |    |    |-- name: string (nullable = true)\n |    |    |-- item6: struct (nullable = true)\n |    |    |    |-- name: string (nullable = true)\n |    |    |-- perk0: string (nullable = true)\n |    |    |-- perk1: string (nullable = true)\n |    |    |-- perk2: string (nullable = true)\n |    |    |-- perk3: string (nullable = true)\n |    |    |-- perk4: string (nullable = true)\n |    |    |-- perk5: string (nullable = true)\n |    |    |-- win: boolean (nullable = true)\n\n"
     ]
    }
   ],
   "source": [
    "def explode_df(nested_df):\n",
    "    new_df = nested_df\n",
    "    for column in nested_df.columns:\n",
    "        if cleansed_league_df.schema[column].dataType.typeName() == 'array':\n",
    "            new_df = nested_df.selectExpr(\"*\", f\"explode({column}) as {column}_exploded\").drop(column)\n",
    "    return new_df\n",
    "\n",
    "exploded_league_df = explode_df(cleansed_league_df)\n",
    "exploded_league_df.printSchema()"
   ]
  },
  {
   "cell_type": "code",
   "execution_count": 0,
   "metadata": {
    "application/vnd.databricks.v1+cell": {
     "cellMetadata": {
      "byteLimit": 2048000,
      "rowLimit": 10000
     },
     "inputWidgets": {},
     "nuid": "3cd742ac-557f-4d51-8aca-f7db1e0113a9",
     "showTitle": false,
     "title": ""
    }
   },
   "outputs": [],
   "source": [
    "league_rdd = exploded_league_df.rdd"
   ]
  },
  {
   "cell_type": "code",
   "execution_count": 0,
   "metadata": {
    "application/vnd.databricks.v1+cell": {
     "cellMetadata": {
      "byteLimit": 2048000,
      "rowLimit": 10000
     },
     "inputWidgets": {},
     "nuid": "8a5b3fd1-70b0-4c55-a72b-1b1d028547fe",
     "showTitle": false,
     "title": ""
    }
   },
   "outputs": [],
   "source": [
    "def itemize(record):\n",
    "    items = []\n",
    "    participant = record.participants_exploded\n",
    "    items.append(\"Champion = \"+ participant.championId)\n",
    "    items.append(\"Spell = \"+ participant.spell1Id)\n",
    "    items.append(\"Spell = \"+ participant.spell2Id)\n",
    "    stats = participant['stats']\n",
    "    items.append(\"Win = \" + str(stats.win))\n",
    "    for i in range(7):\n",
    "        item = stats['item' + str(i)]\n",
    "        item_name = item['name'] if item else None\n",
    "        if item_name: items.append(\"Item = \" + item_name)\n",
    "    for i in range(6):\n",
    "        perk = stats['perk' + str(i)]\n",
    "        perk_name = item['name'] if perk else None\n",
    "        if perk_name: items.append(\"Perk = \" + perk_name)\n",
    "    return list(set(items))"
   ]
  },
  {
   "cell_type": "code",
   "execution_count": 0,
   "metadata": {
    "application/vnd.databricks.v1+cell": {
     "cellMetadata": {
      "byteLimit": 2048000,
      "rowLimit": 10000
     },
     "inputWidgets": {},
     "nuid": "57a4111a-be22-4070-84d9-18edcd37f08c",
     "showTitle": false,
     "title": ""
    }
   },
   "outputs": [],
   "source": [
    "items_rdd = league_rdd.map(itemize)"
   ]
  },
  {
   "cell_type": "code",
   "execution_count": 0,
   "metadata": {
    "application/vnd.databricks.v1+cell": {
     "cellMetadata": {
      "byteLimit": 2048000,
      "rowLimit": 10000
     },
     "inputWidgets": {},
     "nuid": "a28152f8-6114-40cc-9d55-31edaa9c3e1d",
     "showTitle": false,
     "title": ""
    }
   },
   "outputs": [],
   "source": [
    "minSupport = 0.025"
   ]
  },
  {
   "cell_type": "code",
   "execution_count": 0,
   "metadata": {
    "application/vnd.databricks.v1+cell": {
     "cellMetadata": {
      "byteLimit": 2048000,
      "rowLimit": 10000
     },
     "inputWidgets": {},
     "nuid": "6021d5bd-7dba-4abb-9cb8-3fa553fc166d",
     "showTitle": false,
     "title": ""
    }
   },
   "outputs": [
    {
     "output_type": "stream",
     "name": "stdout",
     "output_type": "stream",
     "text": [
      "FreqItemset(items=['Item = Control Ward', 'Spell = Ignite', 'Perk = Oracle Lens', 'Item = Oracle Lens', 'Win = False', 'Spell = Flash'], freq=419)\nFreqItemset(items=['Item = Ninja Tabi', 'Spell = Teleport', 'Item = Warding Totem (Trinket)', 'Perk = Warding Totem (Trinket)', 'Win = False', 'Spell = Flash'], freq=418)\nFreqItemset(items=['Item = Enchantment: Runic Echoes', \"Item = Sorcerer's Shoes\", 'Spell = Smite', 'Perk = Oracle Lens', 'Item = Oracle Lens', 'Spell = Flash'], freq=405)\nFreqItemset(items=['Item = Infinity Edge', \"Item = Berserker's Greaves\", 'Spell = Heal', 'Item = Farsight Alteration', 'Perk = Farsight Alteration', 'Spell = Flash'], freq=392)\nFreqItemset(items=['Item = Ninja Tabi', 'Spell = Teleport', 'Item = Warding Totem (Trinket)', 'Perk = Warding Totem (Trinket)', 'Win = True', 'Spell = Flash'], freq=377)\nFreqItemset(items=[\"Item = Berserker's Greaves\", 'Spell = Heal', 'Item = Farsight Alteration', 'Perk = Farsight Alteration', 'Win = False', 'Spell = Flash'], freq=374)\nFreqItemset(items=[\"Item = Berserker's Greaves\", 'Spell = Heal', 'Item = Farsight Alteration', 'Perk = Farsight Alteration', 'Win = True', 'Spell = Flash'], freq=347)\nFreqItemset(items=[\"Item = Doran's Blade\", \"Item = Berserker's Greaves\", 'Spell = Heal', 'Item = Farsight Alteration', 'Perk = Farsight Alteration', 'Spell = Flash'], freq=336)\nFreqItemset(items=['Item = Control Ward', 'Spell = Ignite', 'Perk = Oracle Lens', 'Item = Oracle Lens', 'Win = True', 'Spell = Flash'], freq=300)\nFreqItemset(items=['Item = Infinity Edge', \"Item = Berserker's Greaves\", 'Item = Farsight Alteration', 'Perk = Farsight Alteration', 'Win = True', 'Spell = Flash'], freq=293)\nFreqItemset(items=['Item = Boots of Mobility', 'Spell = Ignite', 'Perk = Oracle Lens', 'Item = Oracle Lens', 'Win = True', 'Spell = Flash'], freq=287)\nFreqItemset(items=['Item = Boots of Mobility', 'Spell = Ignite', 'Perk = Oracle Lens', 'Item = Oracle Lens', 'Win = False', 'Spell = Flash'], freq=286)\nFreqItemset(items=['Item = Boots of Mobility', 'Item = Control Ward', 'Spell = Ignite', 'Perk = Oracle Lens', 'Item = Oracle Lens', 'Spell = Flash'], freq=282)\nFreqItemset(items=['Item = Infinity Edge', \"Item = Berserker's Greaves\", 'Item = Farsight Alteration', 'Perk = Farsight Alteration', 'Win = False', 'Spell = Flash'], freq=281)\nFreqItemset(items=['Champion = Lee Sin', 'Item = Enchantment: Warrior', 'Spell = Smite', 'Item = Warding Totem (Trinket)', 'Perk = Warding Totem (Trinket)', 'Spell = Flash'], freq=277)\nFreqItemset(items=['Item = Black Cleaver', 'Item = Ninja Tabi', 'Spell = Teleport', 'Item = Warding Totem (Trinket)', 'Perk = Warding Totem (Trinket)', 'Spell = Flash'], freq=270)\nFreqItemset(items=['Item = Enchantment: Runic Echoes', 'Spell = Smite', 'Perk = Oracle Lens', 'Item = Oracle Lens', 'Win = False', 'Spell = Flash'], freq=263)\nFreqItemset(items=['Spell = Teleport', 'Item = Warding Totem (Trinket)', 'Perk = Warding Totem (Trinket)', 'Win = False', 'Spell = Flash'], freq=913)\nFreqItemset(items=['Spell = Teleport', 'Item = Warding Totem (Trinket)', 'Perk = Warding Totem (Trinket)', 'Win = True', 'Spell = Flash'], freq=880)\nFreqItemset(items=['Spell = Ignite', 'Perk = Oracle Lens', 'Item = Oracle Lens', 'Win = False', 'Spell = Flash'], freq=829)\nFreqItemset(items=['Spell = Ignite', 'Perk = Oracle Lens', 'Item = Oracle Lens', 'Win = True', 'Spell = Flash'], freq=826)\nFreqItemset(items=['Item = Ninja Tabi', 'Spell = Teleport', 'Item = Warding Totem (Trinket)', 'Perk = Warding Totem (Trinket)', 'Spell = Flash'], freq=795)\nFreqItemset(items=['Item = Control Ward', 'Perk = Oracle Lens', 'Item = Oracle Lens', 'Win = False', 'Spell = Flash'], freq=753)\nFreqItemset(items=[\"Item = Berserker's Greaves\", 'Spell = Heal', 'Item = Farsight Alteration', 'Perk = Farsight Alteration', 'Spell = Flash'], freq=721)\nFreqItemset(items=['Item = Control Ward', 'Spell = Ignite', 'Perk = Oracle Lens', 'Item = Oracle Lens', 'Spell = Flash'], freq=719)\nFreqItemset(items=['Spell = Smite', 'Perk = Oracle Lens', 'Item = Oracle Lens', 'Win = True', 'Spell = Flash'], freq=672)\nFreqItemset(items=['Spell = Smite', 'Perk = Oracle Lens', 'Item = Oracle Lens', 'Win = False', 'Spell = Flash'], freq=670)\nFreqItemset(items=['Item = Control Ward', 'Perk = Oracle Lens', 'Item = Oracle Lens', 'Win = True', 'Spell = Flash'], freq=605)\nFreqItemset(items=['Item = Infinity Edge', \"Item = Berserker's Greaves\", 'Item = Farsight Alteration', 'Perk = Farsight Alteration', 'Spell = Flash'], freq=574)\nFreqItemset(items=['Item = Boots of Mobility', 'Spell = Ignite', 'Perk = Oracle Lens', 'Item = Oracle Lens', 'Spell = Flash'], freq=573)\nFreqItemset(items=[\"Item = Berserker's Greaves\", 'Item = Farsight Alteration', 'Perk = Farsight Alteration', 'Win = False', 'Spell = Flash'], freq=571)\nFreqItemset(items=['Item = Ninja Tabi', 'Item = Warding Totem (Trinket)', 'Perk = Warding Totem (Trinket)', 'Win = False', 'Spell = Flash'], freq=570)\nFreqItemset(items=['Spell = Heal', 'Item = Farsight Alteration', 'Perk = Farsight Alteration', 'Win = True', 'Spell = Flash'], freq=561)\nFreqItemset(items=['Spell = Heal', 'Item = Farsight Alteration', 'Perk = Farsight Alteration', 'Win = False', 'Spell = Flash'], freq=555)\nFreqItemset(items=['Item = Ninja Tabi', 'Item = Warding Totem (Trinket)', 'Perk = Warding Totem (Trinket)', 'Win = True', 'Spell = Flash'], freq=535)\nFreqItemset(items=[\"Item = Berserker's Greaves\", 'Item = Farsight Alteration', 'Perk = Farsight Alteration', 'Win = True', 'Spell = Flash'], freq=520)\nFreqItemset(items=['Item = Enchantment: Runic Echoes', 'Spell = Smite', 'Perk = Oracle Lens', 'Item = Oracle Lens', 'Spell = Flash'], freq=504)\nFreqItemset(items=[\"Item = Doran's Blade\", \"Item = Berserker's Greaves\", 'Item = Farsight Alteration', 'Perk = Farsight Alteration', 'Spell = Flash'], freq=490)\nFreqItemset(items=['Item = Enchantment: Warrior', 'Spell = Smite', 'Perk = Oracle Lens', 'Item = Oracle Lens', 'Spell = Flash'], freq=477)\nFreqItemset(items=[\"Item = Doran's Blade\", 'Spell = Heal', 'Item = Farsight Alteration', 'Perk = Farsight Alteration', 'Spell = Flash'], freq=476)\nFreqItemset(items=['Item = Black Cleaver', 'Item = Ninja Tabi', 'Item = Warding Totem (Trinket)', 'Perk = Warding Totem (Trinket)', 'Spell = Flash'], freq=460)\nFreqItemset(items=['Item = Black Cleaver', 'Spell = Teleport', 'Item = Warding Totem (Trinket)', 'Perk = Warding Totem (Trinket)', 'Spell = Flash'], freq=457)\nFreqItemset(items=['Item = Pauldrons of Whiterock', 'Spell = Ignite', 'Perk = Oracle Lens', 'Item = Oracle Lens', 'Spell = Flash'], freq=445)\nFreqItemset(items=['Item = Control Ward', 'Spell = Ignite', 'Perk = Oracle Lens', 'Item = Oracle Lens', 'Win = False'], freq=445)\nFreqItemset(items=['Item = Infinity Edge', 'Spell = Heal', 'Item = Farsight Alteration', 'Perk = Farsight Alteration', 'Spell = Flash'], freq=428)\nFreqItemset(items=['Item = Ninja Tabi', 'Spell = Teleport', 'Item = Warding Totem (Trinket)', 'Perk = Warding Totem (Trinket)', 'Win = False'], freq=422)\nFreqItemset(items=['Item = Control Ward', 'Spell = Ignite', 'Perk = Oracle Lens', 'Win = False', 'Spell = Flash'], freq=419)\nFreqItemset(items=['Item = Control Ward', 'Spell = Ignite', 'Item = Oracle Lens', 'Win = False', 'Spell = Flash'], freq=419)\nFreqItemset(items=['Item = Ninja Tabi', 'Spell = Teleport', 'Perk = Warding Totem (Trinket)', 'Win = False', 'Spell = Flash'], freq=418)\nFreqItemset(items=['Item = Ninja Tabi', 'Spell = Teleport', 'Item = Warding Totem (Trinket)', 'Win = False', 'Spell = Flash'], freq=418)\nFreqItemset(items=[\"Item = Sorcerer's Shoes\", 'Spell = Smite', 'Perk = Oracle Lens', 'Item = Oracle Lens', 'Spell = Flash'], freq=412)\nFreqItemset(items=['Item = Black Cleaver', 'Item = Warding Totem (Trinket)', 'Perk = Warding Totem (Trinket)', 'Win = True', 'Spell = Flash'], freq=412)\nFreqItemset(items=['Item = Enchantment: Runic Echoes', \"Item = Sorcerer's Shoes\", 'Spell = Smite', 'Perk = Oracle Lens', 'Item = Oracle Lens'], freq=408)\nFreqItemset(items=['Item = Enchantment: Runic Echoes', \"Item = Sorcerer's Shoes\", 'Spell = Smite', 'Perk = Oracle Lens', 'Spell = Flash'], freq=405)\nFreqItemset(items=['Item = Enchantment: Runic Echoes', \"Item = Sorcerer's Shoes\", 'Spell = Smite', 'Item = Oracle Lens', 'Spell = Flash'], freq=405)\nFreqItemset(items=['Item = Enchantment: Runic Echoes', \"Item = Sorcerer's Shoes\", 'Perk = Oracle Lens', 'Item = Oracle Lens', 'Spell = Flash'], freq=405)\nFreqItemset(items=['Spell = Smite', 'Item = Ninja Tabi', 'Perk = Oracle Lens', 'Item = Oracle Lens', 'Spell = Flash'], freq=403)\nFreqItemset(items=[\"Item = Mercury's Treads\", 'Spell = Teleport', 'Item = Warding Totem (Trinket)', 'Perk = Warding Totem (Trinket)', 'Spell = Flash'], freq=392)\nFreqItemset(items=['Item = Infinity Edge', \"Item = Berserker's Greaves\", 'Spell = Heal', 'Perk = Farsight Alteration', 'Spell = Flash'], freq=392)\nFreqItemset(items=['Item = Infinity Edge', \"Item = Berserker's Greaves\", 'Spell = Heal', 'Item = Farsight Alteration', 'Perk = Farsight Alteration'], freq=392)\nFreqItemset(items=['Item = Infinity Edge', \"Item = Berserker's Greaves\", 'Spell = Heal', 'Item = Farsight Alteration', 'Spell = Flash'], freq=392)\nFreqItemset(items=[\"Item = Doran's Blade\", 'Item = Farsight Alteration', 'Perk = Farsight Alteration', 'Win = True', 'Spell = Flash'], freq=391)\nFreqItemset(items=[\"Item = Sorcerer's Shoes\", 'Perk = Oracle Lens', 'Item = Oracle Lens', 'Win = True', 'Spell = Flash'], freq=390)\nFreqItemset(items=['Item = Ninja Tabi', 'Spell = Teleport', 'Item = Warding Totem (Trinket)', 'Perk = Warding Totem (Trinket)', 'Win = True'], freq=378)\nFreqItemset(items=['Item = Ninja Tabi', 'Spell = Teleport', 'Perk = Warding Totem (Trinket)', 'Win = True', 'Spell = Flash'], freq=377)\nFreqItemset(items=['Item = Ninja Tabi', 'Spell = Teleport', 'Item = Warding Totem (Trinket)', 'Win = True', 'Spell = Flash'], freq=377)\nFreqItemset(items=[\"Item = Berserker's Greaves\", 'Spell = Heal', 'Perk = Farsight Alteration', 'Win = False', 'Spell = Flash'], freq=374)\nFreqItemset(items=[\"Item = Berserker's Greaves\", 'Spell = Heal', 'Item = Farsight Alteration', 'Perk = Farsight Alteration', 'Win = False'], freq=374)\nFreqItemset(items=[\"Item = Berserker's Greaves\", 'Spell = Heal', 'Item = Farsight Alteration', 'Win = False', 'Spell = Flash'], freq=374)\nFreqItemset(items=['Item = Black Cleaver', 'Item = Warding Totem (Trinket)', 'Perk = Warding Totem (Trinket)', 'Win = False', 'Spell = Flash'], freq=373)\nFreqItemset(items=[\"Item = Doran's Blade\", 'Item = Farsight Alteration', 'Perk = Farsight Alteration', 'Win = False', 'Spell = Flash'], freq=371)\nFreqItemset(items=['Item = Farsight Alteration', 'Perk = Farsight Alteration', 'Spell = Teleport', 'Win = True', 'Spell = Flash'], freq=368)\nFreqItemset(items=['Item = Boots of Mobility', 'Perk = Oracle Lens', 'Item = Oracle Lens', 'Win = False', 'Spell = Flash'], freq=356)\nFreqItemset(items=['Spell = Smite', 'Item = Control Ward', 'Perk = Oracle Lens', 'Item = Oracle Lens', 'Spell = Flash'], freq=355)\nFreqItemset(items=['Item = Blade of the Ruined King', 'Spell = Teleport', 'Item = Warding Totem (Trinket)', 'Perk = Warding Totem (Trinket)', 'Spell = Flash'], freq=353)\nFreqItemset(items=['Item = Corrupting Potion', 'Spell = Teleport', 'Item = Warding Totem (Trinket)', 'Perk = Warding Totem (Trinket)', 'Spell = Flash'], freq=353)\nFreqItemset(items=[\"Item = Berserker's Greaves\", 'Spell = Heal', 'Perk = Farsight Alteration', 'Win = True', 'Spell = Flash'], freq=347)\nFreqItemset(items=[\"Item = Berserker's Greaves\", 'Spell = Heal', 'Item = Farsight Alteration', 'Perk = Farsight Alteration', 'Win = True'], freq=347)\nFreqItemset(items=[\"Item = Berserker's Greaves\", 'Spell = Heal', 'Item = Farsight Alteration', 'Win = True', 'Spell = Flash'], freq=347)\nFreqItemset(items=['Item = Boots of Mobility', 'Perk = Oracle Lens', 'Item = Oracle Lens', 'Win = True', 'Spell = Flash'], freq=342)\nFreqItemset(items=[\"Item = Mercury's Treads\", 'Perk = Oracle Lens', 'Item = Oracle Lens', 'Win = True', 'Spell = Flash'], freq=338)\nFreqItemset(items=[\"Item = Mercury's Treads\", 'Item = Warding Totem (Trinket)', 'Perk = Warding Totem (Trinket)', 'Win = True', 'Spell = Flash'], freq=338)\nFreqItemset(items=['Item = Boots of Mobility', 'Item = Control Ward', 'Perk = Oracle Lens', 'Item = Oracle Lens', 'Spell = Flash'], freq=337)\nFreqItemset(items=['Item = Blade of the Ruined King', \"Item = Berserker's Greaves\", 'Item = Farsight Alteration', 'Perk = Farsight Alteration', 'Spell = Flash'], freq=336)\nFreqItemset(items=['Item = Infinity Edge', 'Item = Farsight Alteration', 'Perk = Farsight Alteration', 'Win = True', 'Spell = Flash'], freq=336)\nFreqItemset(items=[\"Item = Doran's Blade\", \"Item = Berserker's Greaves\", 'Spell = Heal', 'Perk = Farsight Alteration', 'Spell = Flash'], freq=336)\nFreqItemset(items=[\"Item = Doran's Blade\", \"Item = Berserker's Greaves\", 'Spell = Heal', 'Item = Farsight Alteration', 'Perk = Farsight Alteration'], freq=336)\nFreqItemset(items=[\"Item = Doran's Blade\", \"Item = Berserker's Greaves\", 'Spell = Heal', 'Item = Farsight Alteration', 'Spell = Flash'], freq=336)\nFreqItemset(items=['Item = Farsight Alteration', 'Perk = Farsight Alteration', 'Spell = Teleport', 'Win = False', 'Spell = Flash'], freq=334)\nFreqItemset(items=['Item = Infinity Edge', 'Item = Farsight Alteration', 'Perk = Farsight Alteration', 'Win = False', 'Spell = Flash'], freq=334)\nFreqItemset(items=[\"Item = Sorcerer's Shoes\", 'Perk = Oracle Lens', 'Item = Oracle Lens', 'Win = False', 'Spell = Flash'], freq=327)\nFreqItemset(items=['Item = Ninja Tabi', 'Perk = Oracle Lens', 'Item = Oracle Lens', 'Win = True', 'Spell = Flash'], freq=326)\nFreqItemset(items=['Item = Boots of Swiftness', 'Spell = Ignite', 'Perk = Oracle Lens', 'Item = Oracle Lens', 'Spell = Flash'], freq=323)\nFreqItemset(items=[\"Item = Doran's Shield\", 'Spell = Teleport', 'Item = Warding Totem (Trinket)', 'Perk = Warding Totem (Trinket)', 'Spell = Flash'], freq=323)\nFreqItemset(items=['Item = Ninja Tabi', 'Perk = Oracle Lens', 'Item = Oracle Lens', 'Win = False', 'Spell = Flash'], freq=320)\nFreqItemset(items=['Item = Blade of the Ruined King', 'Spell = Heal', 'Item = Farsight Alteration', 'Perk = Farsight Alteration', 'Spell = Flash'], freq=318)\nFreqItemset(items=['Item = Control Ward', 'Spell = Ignite', 'Perk = Oracle Lens', 'Item = Oracle Lens', 'Win = True'], freq=318)\nFreqItemset(items=[\"Item = Mercury's Treads\", 'Perk = Oracle Lens', 'Item = Oracle Lens', 'Win = False', 'Spell = Flash'], freq=316)\nFreqItemset(items=[\"Item = Luden's Echo\", \"Item = Sorcerer's Shoes\", 'Item = Farsight Alteration', 'Perk = Farsight Alteration', 'Spell = Flash'], freq=314)\nFreqItemset(items=['Item = Bulwark of the Mountain', 'Spell = Ignite', 'Perk = Oracle Lens', 'Item = Oracle Lens', 'Spell = Flash'], freq=309)\nFreqItemset(items=[\"Item = Doran's Blade\", 'Item = Warding Totem (Trinket)', 'Perk = Warding Totem (Trinket)', 'Win = False', 'Spell = Flash'], freq=309)\nFreqItemset(items=['Item = Essence Reaver', \"Item = Berserker's Greaves\", 'Item = Farsight Alteration', 'Perk = Farsight Alteration', 'Spell = Flash'], freq=309)\nFreqItemset(items=[\"Item = Doran's Blade\", 'Spell = Teleport', 'Item = Warding Totem (Trinket)', 'Perk = Warding Totem (Trinket)', 'Spell = Flash'], freq=308)\nFreqItemset(items=['Item = Enchantment: Warrior', 'Spell = Smite', 'Item = Warding Totem (Trinket)', 'Perk = Warding Totem (Trinket)', 'Spell = Flash'], freq=307)\nFreqItemset(items=['Item = Boots of Mobility', 'Spell = Ignite', 'Perk = Oracle Lens', 'Item = Oracle Lens', 'Win = True'], freq=306)\nFreqItemset(items=[\"Item = Mercury's Treads\", 'Spell = Smite', 'Perk = Oracle Lens', 'Item = Oracle Lens', 'Spell = Flash'], freq=305)\nFreqItemset(items=[\"Item = Zeke's Convergence\", 'Spell = Ignite', 'Perk = Oracle Lens', 'Item = Oracle Lens', 'Spell = Flash'], freq=302)\nFreqItemset(items=[\"Item = Runaan's Hurricane\", \"Item = Berserker's Greaves\", 'Item = Farsight Alteration', 'Perk = Farsight Alteration', 'Spell = Flash'], freq=302)\nFreqItemset(items=['Item = Trinity Force', 'Spell = Teleport', 'Item = Warding Totem (Trinket)', 'Perk = Warding Totem (Trinket)', 'Spell = Flash'], freq=301)\nFreqItemset(items=['Item = Control Ward', 'Spell = Ignite', 'Perk = Oracle Lens', 'Win = True', 'Spell = Flash'], freq=300)\nFreqItemset(items=['Item = Control Ward', 'Spell = Ignite', 'Item = Oracle Lens', 'Win = True', 'Spell = Flash'], freq=300)\nFreqItemset(items=['Item = Shard of True Ice', 'Spell = Ignite', 'Perk = Oracle Lens', 'Item = Oracle Lens', 'Spell = Flash'], freq=293)\nFreqItemset(items=['Item = Blade of the Ruined King', 'Item = Farsight Alteration', 'Perk = Farsight Alteration', 'Win = True', 'Spell = Flash'], freq=293)\nFreqItemset(items=['Item = Infinity Edge', \"Item = Berserker's Greaves\", 'Perk = Farsight Alteration', 'Win = True', 'Spell = Flash'], freq=293)\nFreqItemset(items=['Item = Infinity Edge', \"Item = Berserker's Greaves\", 'Item = Farsight Alteration', 'Perk = Farsight Alteration', 'Win = True'], freq=293)\nFreqItemset(items=['Item = Infinity Edge', \"Item = Berserker's Greaves\", 'Item = Farsight Alteration', 'Win = True', 'Spell = Flash'], freq=293)\nFreqItemset(items=['Item = Boots of Mobility', 'Spell = Ignite', 'Perk = Oracle Lens', 'Item = Oracle Lens', 'Win = False'], freq=293)\nFreqItemset(items=[\"Item = Sorcerer's Shoes\", 'Item = Farsight Alteration', 'Perk = Farsight Alteration', 'Spell = Teleport', 'Spell = Flash'], freq=291)\nFreqItemset(items=['Item = Blade of the Ruined King', 'Item = Farsight Alteration', 'Perk = Farsight Alteration', 'Win = False', 'Spell = Flash'], freq=287)\nFreqItemset(items=['Item = Refillable Potion', 'Spell = Smite', 'Perk = Oracle Lens', 'Item = Oracle Lens', 'Spell = Flash'], freq=287)\nFreqItemset(items=['Item = Boots of Mobility', 'Spell = Ignite', 'Perk = Oracle Lens', 'Win = True', 'Spell = Flash'], freq=287)\nFreqItemset(items=['Item = Boots of Mobility', 'Spell = Ignite', 'Item = Oracle Lens', 'Win = True', 'Spell = Flash'], freq=287)\nFreqItemset(items=['Item = Boots of Mobility', 'Spell = Ignite', 'Perk = Oracle Lens', 'Win = False', 'Spell = Flash'], freq=286)\nFreqItemset(items=['Item = Boots of Mobility', 'Spell = Ignite', 'Item = Oracle Lens', 'Win = False', 'Spell = Flash'], freq=286)\nFreqItemset(items=['Item = Boots of Mobility', 'Item = Control Ward', 'Spell = Ignite', 'Perk = Oracle Lens', 'Item = Oracle Lens'], freq=285)\nFreqItemset(items=['Champion = Ezreal', 'Item = Muramana', 'Item = Farsight Alteration', 'Perk = Farsight Alteration', 'Spell = Flash'], freq=283)\nFreqItemset(items=['Item = Boots of Mobility', 'Item = Control Ward', 'Spell = Ignite', 'Perk = Oracle Lens', 'Spell = Flash'], freq=282)\nFreqItemset(items=['Item = Boots of Mobility', 'Item = Control Ward', 'Spell = Ignite', 'Item = Oracle Lens', 'Spell = Flash'], freq=282)\nFreqItemset(items=['Item = Infinity Edge', \"Item = Berserker's Greaves\", 'Perk = Farsight Alteration', 'Win = False', 'Spell = Flash'], freq=281)\nFreqItemset(items=['Item = Infinity Edge', \"Item = Berserker's Greaves\", 'Item = Farsight Alteration', 'Perk = Farsight Alteration', 'Win = False'], freq=281)\nFreqItemset(items=['Item = Infinity Edge', \"Item = Berserker's Greaves\", 'Item = Farsight Alteration', 'Win = False', 'Spell = Flash'], freq=281)\nFreqItemset(items=['Champion = Lee Sin', 'Spell = Smite', 'Item = Warding Totem (Trinket)', 'Perk = Warding Totem (Trinket)', 'Spell = Flash'], freq=280)\nFreqItemset(items=[\"Item = Sorcerer's Shoes\", 'Item = Farsight Alteration', 'Perk = Farsight Alteration', 'Win = True', 'Spell = Flash'], freq=277)\nFreqItemset(items=['Champion = Lee Sin', 'Item = Enchantment: Warrior', 'Spell = Smite', 'Perk = Warding Totem (Trinket)', 'Spell = Flash'], freq=277)\nFreqItemset(items=['Champion = Lee Sin', 'Item = Enchantment: Warrior', 'Spell = Smite', 'Item = Warding Totem (Trinket)', 'Perk = Warding Totem (Trinket)'], freq=277)\nFreqItemset(items=['Champion = Lee Sin', 'Item = Enchantment: Warrior', 'Spell = Smite', 'Item = Warding Totem (Trinket)', 'Spell = Flash'], freq=277)\nFreqItemset(items=['Champion = Lee Sin', 'Item = Enchantment: Warrior', 'Item = Warding Totem (Trinket)', 'Perk = Warding Totem (Trinket)', 'Spell = Flash'], freq=277)\nFreqItemset(items=['Item = Enchantment: Warrior', 'Item = Black Cleaver', 'Spell = Smite', 'Item = Ninja Tabi', 'Spell = Flash'], freq=276)\nFreqItemset(items=['Item = Enchantment: Runic Echoes', \"Item = Sorcerer's Shoes\", 'Spell = Smite', 'Win = False', 'Spell = Flash'], freq=273)\nFreqItemset(items=[\"Item = Sorcerer's Shoes\", 'Item = Farsight Alteration', 'Perk = Farsight Alteration', 'Win = False', 'Spell = Flash'], freq=270)\nFreqItemset(items=['Item = Black Cleaver', 'Item = Ninja Tabi', 'Spell = Teleport', 'Perk = Warding Totem (Trinket)', 'Spell = Flash'], freq=270)\nFreqItemset(items=['Item = Black Cleaver', 'Item = Ninja Tabi', 'Spell = Teleport', 'Item = Warding Totem (Trinket)', 'Perk = Warding Totem (Trinket)'], freq=270)\nFreqItemset(items=['Item = Black Cleaver', 'Item = Ninja Tabi', 'Spell = Teleport', 'Item = Warding Totem (Trinket)', 'Spell = Flash'], freq=270)\nFreqItemset(items=['Item = Enchantment: Cinderhulk', 'Spell = Smite', 'Perk = Oracle Lens', 'Item = Oracle Lens', 'Spell = Flash'], freq=268)\nFreqItemset(items=[\"Item = Mercury's Treads\", 'Item = Warding Totem (Trinket)', 'Perk = Warding Totem (Trinket)', 'Win = False', 'Spell = Flash'], freq=267)\nFreqItemset(items=['Item = Enchantment: Warrior', 'Item = Black Cleaver', 'Spell = Smite', 'Win = True', 'Spell = Flash'], freq=266)\nFreqItemset(items=['Item = Enchantment: Runic Echoes', 'Spell = Smite', 'Perk = Oracle Lens', 'Item = Oracle Lens', 'Win = False'], freq=265)\nFreqItemset(items=['Item = Pauldrons of Whiterock', 'Item = Boots of Mobility', 'Perk = Oracle Lens', 'Item = Oracle Lens', 'Spell = Flash'], freq=265)\nFreqItemset(items=['Item = Enchantment: Warrior', 'Spell = Smite', 'Perk = Oracle Lens', 'Item = Oracle Lens', 'Win = True'], freq=265)\nFreqItemset(items=['Item = Enchantment: Runic Echoes', 'Perk = Oracle Lens', 'Item = Oracle Lens', 'Win = False', 'Spell = Flash'], freq=263)\nFreqItemset(items=['Item = Enchantment: Runic Echoes', 'Spell = Smite', 'Perk = Oracle Lens', 'Win = False', 'Spell = Flash'], freq=263)\nFreqItemset(items=['Item = Enchantment: Runic Echoes', 'Spell = Smite', 'Item = Oracle Lens', 'Win = False', 'Spell = Flash'], freq=263)\nFreqItemset(items=['Item = Infinity Edge', \"Item = Doran's Blade\", 'Item = Farsight Alteration', 'Perk = Farsight Alteration', 'Spell = Flash'], freq=260)\nFreqItemset(items=['Item = Bulwark of the Mountain', 'Item = Control Ward', 'Perk = Oracle Lens', 'Item = Oracle Lens', 'Spell = Flash'], freq=260)\nFreqItemset(items=['Item = Corrupting Potion', 'Item = Warding Totem (Trinket)', 'Perk = Warding Totem (Trinket)', 'Win = False', 'Spell = Flash'], freq=259)\nFreqItemset(items=['Item = Enchantment: Runic Echoes', \"Item = Sorcerer's Shoes\", 'Spell = Smite', 'Win = True', 'Spell = Flash'], freq=257)\nFreqItemset(items=['Item = Pauldrons of Whiterock', 'Item = Control Ward', 'Perk = Oracle Lens', 'Item = Oracle Lens', 'Spell = Flash'], freq=257)\nFreqItemset(items=['Item = Boots of Swiftness', 'Perk = Oracle Lens', 'Item = Oracle Lens', 'Win = True', 'Spell = Flash'], freq=256)\nFreqItemset(items=['Item = Pauldrons of Whiterock', 'Perk = Oracle Lens', 'Item = Oracle Lens', 'Win = True', 'Spell = Flash'], freq=255)\nFreqItemset(items=['Item = Phantom Dancer', \"Item = Berserker's Greaves\", 'Item = Farsight Alteration', 'Perk = Farsight Alteration', 'Spell = Flash'], freq=255)\nFreqItemset(items=[\"Item = Zhonya's Hourglass\", \"Item = Sorcerer's Shoes\", 'Perk = Oracle Lens', 'Item = Oracle Lens', 'Spell = Flash'], freq=253)\nFreqItemset(items=['Item = Muramana', 'Item = Farsight Alteration', 'Perk = Farsight Alteration', 'Win = True', 'Spell = Flash'], freq=251)\nFreqItemset(items=['Champion = Thresh', 'Spell = Ignite', 'Perk = Oracle Lens', 'Item = Oracle Lens', 'Spell = Flash'], freq=251)\nFreqItemset(items=['Item = Essence Reaver', 'Spell = Heal', 'Item = Farsight Alteration', 'Perk = Farsight Alteration', 'Spell = Flash'], freq=251)\nFreqItemset(items=['Perk = Oracle Lens', 'Item = Oracle Lens', 'Win = True', 'Spell = Flash'], freq=1912)\nFreqItemset(items=['Perk = Oracle Lens', 'Item = Oracle Lens', 'Win = False', 'Spell = Flash'], freq=1893)\nFreqItemset(items=['Spell = Teleport', 'Item = Warding Totem (Trinket)', 'Perk = Warding Totem (Trinket)', 'Spell = Flash'], freq=1793)\nFreqItemset(items=['Spell = Ignite', 'Perk = Oracle Lens', 'Item = Oracle Lens', 'Spell = Flash'], freq=1655)\nFreqItemset(items=['Item = Warding Totem (Trinket)', 'Perk = Warding Totem (Trinket)', 'Win = False', 'Spell = Flash'], freq=1561)\nFreqItemset(items=['Item = Warding Totem (Trinket)', 'Perk = Warding Totem (Trinket)', 'Win = True', 'Spell = Flash'], freq=1478)\nFreqItemset(items=['Item = Farsight Alteration', 'Perk = Farsight Alteration', 'Win = True', 'Spell = Flash'], freq=1379)\nFreqItemset(items=['Item = Control Ward', 'Perk = Oracle Lens', 'Ite\n\n*** WARNING: max output size exceeded, skipping output. ***\n\nin = True'], freq=472)\nFreqItemset(items=[\"Item = Death's Dance\", 'Spell = Flash'], freq=472)\nFreqItemset(items=['Item = Bulwark of the Mountain', 'Perk = Oracle Lens'], freq=471)\nFreqItemset(items=['Item = Bulwark of the Mountain', 'Item = Oracle Lens'], freq=471)\nFreqItemset(items=['Item = Essence Reaver', 'Spell = Flash'], freq=471)\nFreqItemset(items=[\"Item = Sorcerer's Shoes\", 'Spell = Ignite'], freq=467)\nFreqItemset(items=['Item = Corrupting Potion', 'Perk = Warding Totem (Trinket)'], freq=466)\nFreqItemset(items=['Item = Corrupting Potion', 'Item = Warding Totem (Trinket)'], freq=466)\nFreqItemset(items=['Item = Infinity Edge', 'Spell = Heal'], freq=462)\nFreqItemset(items=['Item = Kindlegem', 'Spell = Flash'], freq=460)\nFreqItemset(items=['Item = Trinity Force', 'Spell = Teleport'], freq=451)\nFreqItemset(items=[\"Item = Athene's Unholy Grail\", 'Perk = Oracle Lens'], freq=450)\nFreqItemset(items=[\"Item = Athene's Unholy Grail\", 'Item = Oracle Lens'], freq=450)\nFreqItemset(items=['Item = Bulwark of the Mountain', 'Spell = Flash'], freq=450)\nFreqItemset(items=[\"Item = Mercury's Treads\", 'Spell = Smite'], freq=445)\nFreqItemset(items=['Item = Pauldrons of Whiterock', 'Spell = Ignite'], freq=445)\nFreqItemset(items=['Item = Shard of True Ice', 'Spell = Flash'], freq=444)\nFreqItemset(items=['Item = Corrupting Potion', 'Win = False'], freq=443)\nFreqItemset(items=['Item = Blade of the Ruined King', 'Spell = Teleport'], freq=441)\nFreqItemset(items=['Spell = Smite', 'Perk = Warding Totem (Trinket)'], freq=437)\nFreqItemset(items=['Spell = Smite', 'Item = Warding Totem (Trinket)'], freq=437)\nFreqItemset(items=['Item = Phantom Dancer', 'Spell = Flash'], freq=436)\nFreqItemset(items=['Spell = Exhaust', 'Win = True'], freq=436)\nFreqItemset(items=[\"Item = Zhonya's Hourglass\", 'Win = False'], freq=434)\nFreqItemset(items=['Item = Enchantment: Warrior', 'Win = True'], freq=433)\nFreqItemset(items=['Spell = Exhaust', 'Perk = Oracle Lens'], freq=433)\nFreqItemset(items=['Spell = Exhaust', 'Item = Oracle Lens'], freq=433)\nFreqItemset(items=['Item = Muramana', 'Perk = Farsight Alteration'], freq=427)\nFreqItemset(items=['Item = Muramana', 'Item = Farsight Alteration'], freq=427)\nFreqItemset(items=['Item = Edge of Night', 'Spell = Flash'], freq=425)\nFreqItemset(items=['Item = Refillable Potion', 'Win = True'], freq=419)\nFreqItemset(items=['Item = Infinity Edge', 'Win = True'], freq=419)\nFreqItemset(items=['Spell = Exhaust', 'Win = False'], freq=417)\nFreqItemset(items=['Item = Refillable Potion', 'Perk = Oracle Lens'], freq=416)\nFreqItemset(items=['Item = Refillable Potion', 'Item = Oracle Lens'], freq=416)\nFreqItemset(items=[\"Item = Doran's Shield\", 'Perk = Warding Totem (Trinket)'], freq=415)\nFreqItemset(items=[\"Item = Doran's Shield\", 'Item = Warding Totem (Trinket)'], freq=415)\nFreqItemset(items=['Item = Ardent Censer', 'Perk = Oracle Lens'], freq=415)\nFreqItemset(items=['Item = Ardent Censer', 'Item = Oracle Lens'], freq=415)\nFreqItemset(items=['Item = Blade of the Ruined King', \"Item = Berserker's Greaves\"], freq=414)\nFreqItemset(items=['Item = Refillable Potion', 'Spell = Smite'], freq=411)\nFreqItemset(items=['Item = Trinity Force', 'Win = True'], freq=409)\nFreqItemset(items=['Item = Refillable Potion', 'Perk = Warding Totem (Trinket)'], freq=407)\nFreqItemset(items=['Item = Refillable Potion', 'Item = Warding Totem (Trinket)'], freq=407)\nFreqItemset(items=['Item = Control Ward', 'Perk = Warding Totem (Trinket)'], freq=407)\nFreqItemset(items=['Item = Control Ward', 'Item = Warding Totem (Trinket)'], freq=407)\nFreqItemset(items=['Item = Black Cleaver', \"Item = Mercury's Treads\"], freq=402)\nFreqItemset(items=['Item = Blade of the Ruined King', \"Item = Doran's Blade\"], freq=401)\nFreqItemset(items=['Item = Ninja Tabi', 'Item = Control Ward'], freq=400)\nFreqItemset(items=['Item = Enchantment: Warrior', 'Item = Ninja Tabi'], freq=400)\nFreqItemset(items=['Item = Ionian Boots of Lucidity', 'Win = True'], freq=399)\nFreqItemset(items=['Item = Fiendish Codex', 'Spell = Flash'], freq=397)\nFreqItemset(items=['Item = Infinity Edge', 'Win = False'], freq=397)\nFreqItemset(items=['Item = Boots of Mobility', 'Win = False'], freq=396)\nFreqItemset(items=[\"Item = Luden's Echo\", 'Win = True'], freq=395)\nFreqItemset(items=['Item = Enchantment: Warrior', 'Win = False'], freq=390)\nFreqItemset(items=[\"Item = Zhonya's Hourglass\", 'Perk = Oracle Lens'], freq=389)\nFreqItemset(items=[\"Item = Zhonya's Hourglass\", 'Item = Oracle Lens'], freq=389)\nFreqItemset(items=[\"Item = Rabadon's Deathcap\", \"Item = Sorcerer's Shoes\"], freq=388)\nFreqItemset(items=[\"Item = Doran's Blade\", 'Spell = Teleport'], freq=388)\nFreqItemset(items=[\"Item = Doran's Shield\", 'Spell = Teleport'], freq=386)\nFreqItemset(items=['Item = Dagger', 'Spell = Flash'], freq=385)\nFreqItemset(items=['Item = Boots of Mobility', 'Win = True'], freq=383)\nFreqItemset(items=[\"Item = Youmuu's Ghostblade\", 'Win = True'], freq=378)\nFreqItemset(items=['Item = Corrupting Potion', 'Win = True'], freq=377)\nFreqItemset(items=[\"Item = Mercury's Treads\", 'Spell = Ignite'], freq=374)\nFreqItemset(items=[\"Item = Zeke's Convergence\", 'Spell = Flash'], freq=374)\nFreqItemset(items=[\"Item = Zeke's Convergence\", 'Perk = Oracle Lens'], freq=373)\nFreqItemset(items=[\"Item = Zeke's Convergence\", 'Item = Oracle Lens'], freq=373)\nFreqItemset(items=[\"Item = Liandry's Torment\", 'Spell = Flash'], freq=372)\nFreqItemset(items=['Item = Redemption', 'Perk = Oracle Lens'], freq=370)\nFreqItemset(items=['Item = Redemption', 'Item = Oracle Lens'], freq=370)\nFreqItemset(items=['Item = Essence Reaver', 'Perk = Farsight Alteration'], freq=370)\nFreqItemset(items=['Item = Essence Reaver', 'Item = Farsight Alteration'], freq=370)\nFreqItemset(items=['Item = Needlessly Large Rod', 'Spell = Flash'], freq=370)\nFreqItemset(items=['Item = Enchantment: Runic Echoes', 'Win = False'], freq=362)\nFreqItemset(items=['Item = Ardent Censer', 'Spell = Flash'], freq=362)\nFreqItemset(items=[\"Item = Luden's Echo\", 'Perk = Farsight Alteration'], freq=361)\nFreqItemset(items=[\"Item = Luden's Echo\", 'Item = Farsight Alteration'], freq=361)\nFreqItemset(items=['Champion = Ezreal', 'Spell = Flash'], freq=361)\nFreqItemset(items=['Item = Shard of True Ice', 'Spell = Ignite'], freq=359)\nFreqItemset(items=['Item = Boots of Speed', 'Win = False'], freq=359)\nFreqItemset(items=['Item = Ionian Boots of Lucidity', 'Win = False'], freq=358)\nFreqItemset(items=['Item = B. F. Sword', 'Spell = Flash'], freq=357)\nFreqItemset(items=[\"Item = Luden's Echo\", 'Win = False'], freq=357)\nFreqItemset(items=['Item = Morellonomicon', 'Win = True'], freq=357)\nFreqItemset(items=['Item = Serrated Dirk', 'Spell = Flash'], freq=356)\nFreqItemset(items=['Item = Boots of Mobility', 'Item = Control Ward'], freq=356)\nFreqItemset(items=['Item = Trinity Force', 'Perk = Warding Totem (Trinket)'], freq=354)\nFreqItemset(items=['Item = Trinity Force', 'Item = Warding Totem (Trinket)'], freq=354)\nFreqItemset(items=['Item = Amplifying Tome', 'Win = False'], freq=353)\nFreqItemset(items=['Item = Redemption', 'Spell = Flash'], freq=352)\nFreqItemset(items=['Item = Essence Reaver', \"Item = Berserker's Greaves\"], freq=351)\nFreqItemset(items=['Item = Dark Seal', \"Item = Sorcerer's Shoes\"], freq=350)\nFreqItemset(items=['Item = Black Cleaver', 'Perk = Oracle Lens'], freq=350)\nFreqItemset(items=['Item = Black Cleaver', 'Item = Oracle Lens'], freq=350)\nFreqItemset(items=['Item = Blade of the Ruined King', 'Spell = Heal'], freq=349)\nFreqItemset(items=['Item = Duskblade of Draktharr', \"Item = Youmuu's Ghostblade\"], freq=349)\nFreqItemset(items=[\"Item = Athene's Unholy Grail\", 'Spell = Flash'], freq=348)\nFreqItemset(items=['Item = Ruby Crystal', 'Win = False'], freq=348)\nFreqItemset(items=['Spell = Ignite', 'Perk = Farsight Alteration'], freq=347)\nFreqItemset(items=['Spell = Ignite', 'Item = Farsight Alteration'], freq=347)\nFreqItemset(items=[\"Item = Doran's Ring\", \"Item = Sorcerer's Shoes\"], freq=345)\nFreqItemset(items=['Item = Boots of Swiftness', 'Spell = Ignite'], freq=344)\nFreqItemset(items=[\"Item = Doran's Shield\", 'Win = False'], freq=343)\nFreqItemset(items=['Item = Phantom Dancer', \"Item = Berserker's Greaves\"], freq=340)\nFreqItemset(items=['Item = Long Sword', 'Win = False'], freq=339)\nFreqItemset(items=['Item = Blade of the Ruined King', 'Item = Ninja Tabi'], freq=338)\nFreqItemset(items=['Item = Amplifying Tome', \"Item = Sorcerer's Shoes\"], freq=336)\nFreqItemset(items=['Item = Ionian Boots of Lucidity', 'Perk = Farsight Alteration'], freq=335)\nFreqItemset(items=['Item = Ionian Boots of Lucidity', 'Item = Farsight Alteration'], freq=335)\nFreqItemset(items=['Item = Ionian Boots of Lucidity', 'Perk = Oracle Lens'], freq=334)\nFreqItemset(items=['Item = Ionian Boots of Lucidity', 'Item = Oracle Lens'], freq=334)\nFreqItemset(items=['Item = Blasting Wand', \"Item = Sorcerer's Shoes\"], freq=331)\nFreqItemset(items=[\"Item = Runaan's Hurricane\", 'Spell = Flash'], freq=329)\nFreqItemset(items=[\"Item = Zhonya's Hourglass\", 'Spell = Teleport'], freq=328)\nFreqItemset(items=[\"Item = Knight's Vow\", 'Spell = Flash'], freq=327)\nFreqItemset(items=[\"Item = Mercury's Treads\", 'Item = Control Ward'], freq=326)\nFreqItemset(items=['Item = Pickaxe', 'Spell = Flash'], freq=326)\nFreqItemset(items=['Item = Bulwark of the Mountain', 'Spell = Ignite'], freq=324)\nFreqItemset(items=[\"Item = Runaan's Hurricane\", 'Perk = Farsight Alteration'], freq=321)\nFreqItemset(items=[\"Item = Runaan's Hurricane\", 'Item = Farsight Alteration'], freq=321)\nFreqItemset(items=['Spell = Exhaust', 'Perk = Farsight Alteration'], freq=319)\nFreqItemset(items=['Spell = Exhaust', 'Item = Farsight Alteration'], freq=319)\nFreqItemset(items=['Item = Gargoyle Stoneplate', 'Spell = Flash'], freq=316)\nFreqItemset(items=[\"Item = Sorcerer's Shoes\", 'Item = Control Ward'], freq=314)\nFreqItemset(items=['Item = Enchantment: Cinderhulk', 'Spell = Smite'], freq=314)\nFreqItemset(items=[\"Item = Youmuu's Ghostblade\", 'Perk = Oracle Lens'], freq=312)\nFreqItemset(items=[\"Item = Youmuu's Ghostblade\", 'Item = Oracle Lens'], freq=312)\nFreqItemset(items=[\"Item = Luden's Echo\", 'Spell = Teleport'], freq=310)\nFreqItemset(items=['Item = Cloth Armor', 'Spell = Flash'], freq=310)\nFreqItemset(items=[\"Item = Doran's Ring\", 'Win = False'], freq=310)\nFreqItemset(items=['Item = Duskblade of Draktharr', 'Perk = Oracle Lens'], freq=309)\nFreqItemset(items=['Item = Duskblade of Draktharr', 'Item = Oracle Lens'], freq=309)\nFreqItemset(items=['Item = Boots of Swiftness', 'Win = True'], freq=309)\nFreqItemset(items=['Item = Dark Seal', 'Win = True'], freq=309)\nFreqItemset(items=[\"Item = Runaan's Hurricane\", \"Item = Berserker's Greaves\"], freq=309)\nFreqItemset(items=['Item = Enchantment: Runic Echoes', 'Win = True'], freq=308)\nFreqItemset(items=['Item = Duskblade of Draktharr', 'Win = True'], freq=308)\nFreqItemset(items=['Item = Boots of Speed', 'Perk = Warding Totem (Trinket)'], freq=308)\nFreqItemset(items=['Item = Boots of Speed', 'Item = Warding Totem (Trinket)'], freq=308)\nFreqItemset(items=['Item = Control Ward', 'Spell = Teleport'], freq=308)\nFreqItemset(items=['Champion = Ezreal', 'Perk = Farsight Alteration'], freq=308)\nFreqItemset(items=['Champion = Ezreal', 'Item = Farsight Alteration'], freq=308)\nFreqItemset(items=['Item = Enchantment: Warrior', 'Perk = Warding Totem (Trinket)'], freq=307)\nFreqItemset(items=['Item = Enchantment: Warrior', 'Item = Warding Totem (Trinket)'], freq=307)\nFreqItemset(items=[\"Item = Youmuu's Ghostblade\", 'Win = False'], freq=307)\nFreqItemset(items=['Item = Guardian Angel', 'Spell = Flash'], freq=306)\nFreqItemset(items=['Champion = Ezreal', 'Item = Muramana'], freq=306)\nFreqItemset(items=[\"Item = Knight's Vow\", 'Perk = Oracle Lens'], freq=305)\nFreqItemset(items=[\"Item = Knight's Vow\", 'Item = Oracle Lens'], freq=305)\nFreqItemset(items=[\"Item = Doran's Ring\", 'Spell = Teleport'], freq=304)\nFreqItemset(items=['Item = Tiamat', 'Spell = Flash'], freq=303)\nFreqItemset(items=['Item = Infinity Edge', \"Item = Doran's Blade\"], freq=303)\nFreqItemset(items=[\"Item = Doran's Blade\", 'Item = Ninja Tabi'], freq=303)\nFreqItemset(items=[\"Item = Zeke's Convergence\", 'Spell = Ignite'], freq=302)\nFreqItemset(items=['Item = Phantom Dancer', 'Perk = Farsight Alteration'], freq=302)\nFreqItemset(items=['Item = Phantom Dancer', 'Item = Farsight Alteration'], freq=302)\nFreqItemset(items=['Item = Dark Seal', 'Win = False'], freq=302)\nFreqItemset(items=[\"Item = Death's Dance\", 'Spell = Teleport'], freq=298)\nFreqItemset(items=['Item = Control Ward', 'Perk = Farsight Alteration'], freq=295)\nFreqItemset(items=['Item = Control Ward', 'Item = Farsight Alteration'], freq=295)\nFreqItemset(items=['Item = Broken Stopwatch', 'Win = True'], freq=294)\nFreqItemset(items=[\"Item = Doran's Shield\", 'Win = True'], freq=294)\nFreqItemset(items=[\"Item = Caulfield's Warhammer\", 'Spell = Flash'], freq=292)\nFreqItemset(items=[\"Item = Rabadon's Deathcap\", 'Win = True'], freq=292)\nFreqItemset(items=['Item = Enchantment: Cinderhulk', 'Perk = Oracle Lens'], freq=291)\nFreqItemset(items=['Item = Enchantment: Cinderhulk', 'Item = Oracle Lens'], freq=291)\nFreqItemset(items=['Item = Enchantment: Cinderhulk', 'Spell = Flash'], freq=291)\nFreqItemset(items=[\"Item = Sterak's Gage\", 'Spell = Flash'], freq=290)\nFreqItemset(items=['Item = Ruby Crystal', 'Perk = Oracle Lens'], freq=288)\nFreqItemset(items=['Item = Ruby Crystal', 'Item = Oracle Lens'], freq=288)\nFreqItemset(items=[\"Item = Death's Dance\", 'Item = Black Cleaver'], freq=288)\nFreqItemset(items=[\"Item = Death's Dance\", 'Perk = Warding Totem (Trinket)'], freq=287)\nFreqItemset(items=[\"Item = Death's Dance\", 'Item = Warding Totem (Trinket)'], freq=287)\nFreqItemset(items=['Item = Morellonomicon', 'Win = False'], freq=286)\nFreqItemset(items=['Item = Hextech Protobelt-01', 'Spell = Teleport'], freq=286)\nFreqItemset(items=['Item = Essence Reaver', 'Item = Infinity Edge'], freq=286)\nFreqItemset(items=['Champion = Lee Sin', 'Spell = Flash'], freq=285)\nFreqItemset(items=[\"Item = Death's Dance\", 'Win = True'], freq=285)\nFreqItemset(items=['Item = Morellonomicon', 'Perk = Oracle Lens'], freq=284)\nFreqItemset(items=['Item = Morellonomicon', 'Item = Oracle Lens'], freq=284)\nFreqItemset(items=['Champion = Lee Sin', 'Spell = Smite'], freq=283)\nFreqItemset(items=['Champion = Thresh', 'Spell = Flash'], freq=282)\nFreqItemset(items=['Item = Gargoyle Stoneplate', 'Perk = Oracle Lens'], freq=282)\nFreqItemset(items=['Item = Gargoyle Stoneplate', 'Item = Oracle Lens'], freq=282)\nFreqItemset(items=['Item = Boots of Swiftness', 'Win = False'], freq=282)\nFreqItemset(items=['Champion = Lee Sin', 'Perk = Warding Totem (Trinket)'], freq=282)\nFreqItemset(items=['Champion = Lee Sin', 'Item = Warding Totem (Trinket)'], freq=282)\nFreqItemset(items=['Item = Shard of True Ice', 'Win = True'], freq=281)\nFreqItemset(items=['Champion = Lee Sin', 'Item = Enchantment: Warrior'], freq=280)\nFreqItemset(items=['Item = Ninja Tabi', 'Spell = Ignite'], freq=279)\nFreqItemset(items=['Champion = Thresh', 'Perk = Oracle Lens'], freq=277)\nFreqItemset(items=['Champion = Thresh', 'Item = Oracle Lens'], freq=277)\nFreqItemset(items=['Item = Trinity Force', 'Item = Ninja Tabi'], freq=276)\nFreqItemset(items=['Item = Muramana', 'Win = True'], freq=275)\nFreqItemset(items=[\"Item = Youmuu's Ghostblade\", 'Spell = Ignite'], freq=273)\nFreqItemset(items=['Item = Trinity Force', 'Win = False'], freq=272)\nFreqItemset(items=[\"Item = Executioner's Calling\", 'Win = True'], freq=272)\nFreqItemset(items=['Item = Blasting Wand', 'Win = False'], freq=271)\nFreqItemset(items=['Item = Kindlegem', 'Perk = Oracle Lens'], freq=270)\nFreqItemset(items=['Item = Kindlegem', 'Item = Oracle Lens'], freq=270)\nFreqItemset(items=[\"Item = Mercury's Treads\", 'Perk = Farsight Alteration'], freq=268)\nFreqItemset(items=[\"Item = Mercury's Treads\", 'Item = Farsight Alteration'], freq=268)\nFreqItemset(items=['Item = Bulwark of the Mountain', 'Item = Control Ward'], freq=268)\nFreqItemset(items=['Item = Essence Reaver', 'Spell = Heal'], freq=268)\nFreqItemset(items=[\"Item = Executioner's Calling\", 'Win = False'], freq=268)\nFreqItemset(items=[\"Item = Luden's Echo\", 'Spell = Ignite'], freq=267)\nFreqItemset(items=['Item = Chain Vest', 'Spell = Flash'], freq=267)\nFreqItemset(items=['Spell = Exhaust', 'Item = Control Ward'], freq=267)\nFreqItemset(items=['Item = Oblivion Orb', 'Spell = Flash'], freq=266)\nFreqItemset(items=['Item = Hextech Protobelt-01', \"Item = Sorcerer's Shoes\"], freq=266)\nFreqItemset(items=['Item = Enchantment: Runic Echoes', \"Item = Zhonya's Hourglass\"], freq=265)\nFreqItemset(items=['Item = Pauldrons of Whiterock', 'Item = Boots of Mobility'], freq=265)\nFreqItemset(items=[\"Item = Zhonya's Hourglass\", 'Spell = Smite'], freq=265)\nFreqItemset(items=['Champion = Ezreal', 'Item = Ionian Boots of Lucidity'], freq=265)\nFreqItemset(items=['Item = Needlessly Large Rod', \"Item = Sorcerer's Shoes\"], freq=265)\nFreqItemset(items=[\"Item = Guinsoo's Rageblade\", 'Spell = Flash'], freq=264)\nFreqItemset(items=[\"Item = Athene's Unholy Grail\", 'Spell = Ignite'], freq=264)\nFreqItemset(items=[\"Item = Athene's Unholy Grail\", 'Item = Shard of True Ice'], freq=263)\nFreqItemset(items=['Item = Hextech Protobelt-01', 'Win = True'], freq=263)\nFreqItemset(items=['Item = Forbidden Idol', 'Perk = Oracle Lens'], freq=262)\nFreqItemset(items=['Item = Forbidden Idol', 'Item = Oracle Lens'], freq=262)\nFreqItemset(items=['Item = Blade of the Ruined King', 'Item = Black Cleaver'], freq=261)\nFreqItemset(items=['Item = Enchantment: Warrior', 'Item = Control Ward'], freq=260)\nFreqItemset(items=['Item = Phantom Dancer', 'Item = Infinity Edge'], freq=260)\nFreqItemset(items=['Champion = Graves', 'Spell = Flash'], freq=258)\nFreqItemset(items=['Item = Ruby Crystal', 'Perk = Warding Totem (Trinket)'], freq=257)\nFreqItemset(items=['Item = Ruby Crystal', 'Item = Warding Totem (Trinket)'], freq=257)\nFreqItemset(items=['Item = Pauldrons of Whiterock', 'Item = Control Ward'], freq=257)\nFreqItemset(items=['Item = Long Sword', 'Perk = Warding Totem (Trinket)'], freq=257)\nFreqItemset(items=['Item = Long Sword', 'Item = Warding Totem (Trinket)'], freq=257)\nFreqItemset(items=['Item = Hextech Protobelt-01', 'Win = False'], freq=257)\nFreqItemset(items=[\"Item = Doran's Ring\", \"Item = Luden's Echo\"], freq=257)\nFreqItemset(items=['Spell = Heal', 'Perk = Oracle Lens'], freq=257)\nFreqItemset(items=['Spell = Heal', 'Item = Oracle Lens'], freq=257)\nFreqItemset(items=['Item = Long Sword', 'Win = True'], freq=256)\nFreqItemset(items=['Item = Morellonomicon', \"Item = Zhonya's Hourglass\"], freq=256)\nFreqItemset(items=['Item = Pauldrons of Whiterock', 'Win = True'], freq=255)\nFreqItemset(items=['Item = Ninja Tabi', 'Perk = Farsight Alteration'], freq=255)\nFreqItemset(items=['Item = Ninja Tabi', 'Item = Farsight Alteration'], freq=255)\nFreqItemset(items=['Champion = Thresh', 'Spell = Ignite'], freq=255)\nFreqItemset(items=['Item = Umbral Glaive', 'Perk = Oracle Lens'], freq=255)\nFreqItemset(items=['Item = Umbral Glaive', 'Item = Oracle Lens'], freq=255)\nFreqItemset(items=['Item = Dark Seal', 'Perk = Oracle Lens'], freq=255)\nFreqItemset(items=['Item = Dark Seal', 'Item = Oracle Lens'], freq=255)\nFreqItemset(items=['Item = Shard of True Ice', 'Win = False'], freq=254)\nFreqItemset(items=['Item = Kindlegem', 'Win = False'], freq=253)\nFreqItemset(items=['Item = Rapid Firecannon', 'Spell = Flash'], freq=253)\nFreqItemset(items=['Champion = Aphelios', 'Spell = Flash'], freq=253)\nFreqItemset(items=['Item = Ruby Crystal', 'Win = True'], freq=252)\nFreqItemset(items=['Item = Enchantment: Warrior', \"Item = Mercury's Treads\"], freq=252)\nFreqItemset(items=['Spell = Teleport', 'Perk = Oracle Lens'], freq=251)\nFreqItemset(items=['Spell = Teleport', 'Item = Oracle Lens'], freq=251)\nFreqItemset(items=[\"Item = Doran's Ring\", 'Win = True'], freq=251)\nFreqItemset(items=['Item = Ionian Boots of Lucidity', 'Spell = Heal'], freq=250)\nFreqItemset(items=['Item = Edge of Night', 'Win = True'], freq=250)\nFreqItemset(items=[\"Item = Liandry's Torment\", \"Item = Sorcerer's Shoes\"], freq=250)\nFreqItemset(items=['Spell = Flash'], freq=9667)\nFreqItemset(items=['Win = False'], freq=5000)\nFreqItemset(items=['Win = True'], freq=5000)\nFreqItemset(items=['Perk = Oracle Lens'], freq=4081)\nFreqItemset(items=['Item = Oracle Lens'], freq=4081)\nFreqItemset(items=['Perk = Warding Totem (Trinket)'], freq=3090)\nFreqItemset(items=['Item = Warding Totem (Trinket)'], freq=3090)\nFreqItemset(items=['Spell = Teleport'], freq=2764)\nFreqItemset(items=['Perk = Farsight Alteration'], freq=2729)\nFreqItemset(items=['Item = Farsight Alteration'], freq=2729)\nFreqItemset(items=['Spell = Ignite'], freq=2694)\nFreqItemset(items=['Item = Control Ward'], freq=2168)\nFreqItemset(items=['Item = Ninja Tabi'], freq=2062)\nFreqItemset(items=['Spell = Smite'], freq=2001)\nFreqItemset(items=[\"Item = Sorcerer's Shoes\"], freq=1813)\nFreqItemset(items=['Spell = Heal'], freq=1573)\nFreqItemset(items=[\"Item = Mercury's Treads\"], freq=1561)\nFreqItemset(items=[\"Item = Berserker's Greaves\"], freq=1445)\nFreqItemset(items=[\"Item = Doran's Blade\"], freq=1357)\nFreqItemset(items=['Item = Black Cleaver'], freq=1247)\nFreqItemset(items=['Item = Blade of the Ruined King'], freq=1124)\nFreqItemset(items=['Item = Refillable Potion'], freq=960)\nFreqItemset(items=[\"Item = Zhonya's Hourglass\"], freq=906)\nFreqItemset(items=['Spell = Exhaust'], freq=853)\nFreqItemset(items=['Item = Enchantment: Warrior'], freq=823)\nFreqItemset(items=['Item = Corrupting Potion'], freq=820)\nFreqItemset(items=['Item = Infinity Edge'], freq=816)\nFreqItemset(items=['Item = Boots of Mobility'], freq=779)\nFreqItemset(items=['Item = Ionian Boots of Lucidity'], freq=757)\nFreqItemset(items=[\"Item = Luden's Echo\"], freq=752)\nFreqItemset(items=[\"Item = Youmuu's Ghostblade\"], freq=685)\nFreqItemset(items=['Item = Trinity Force'], freq=681)\nFreqItemset(items=['Item = Enchantment: Runic Echoes'], freq=670)\nFreqItemset(items=['Item = Morellonomicon'], freq=643)\nFreqItemset(items=[\"Item = Doran's Shield\"], freq=637)\nFreqItemset(items=['Item = Dark Seal'], freq=611)\nFreqItemset(items=['Item = Ruby Crystal'], freq=600)\nFreqItemset(items=['Item = Long Sword'], freq=595)\nFreqItemset(items=['Item = Boots of Swiftness'], freq=591)\nFreqItemset(items=[\"Item = Doran's Ring\"], freq=561)\nFreqItemset(items=['Item = Duskblade of Draktharr'], freq=557)\nFreqItemset(items=['Item = Amplifying Tome'], freq=555)\nFreqItemset(items=['Item = Boots of Speed'], freq=548)\nFreqItemset(items=[\"Item = Executioner's Calling\"], freq=540)\nFreqItemset(items=['Item = Shard of True Ice'], freq=535)\nFreqItemset(items=['Item = Broken Stopwatch'], freq=521)\nFreqItemset(items=['Item = Hextech Protobelt-01'], freq=520)\nFreqItemset(items=['Item = Blasting Wand'], freq=502)\nFreqItemset(items=['Item = Pauldrons of Whiterock'], freq=499)\nFreqItemset(items=[\"Item = Rabadon's Deathcap\"], freq=490)\nFreqItemset(items=['Item = Umbral Glaive'], freq=479)\nFreqItemset(items=[\"Item = Death's Dance\"], freq=479)\nFreqItemset(items=[\"Item = Athene's Unholy Grail\"], freq=475)\nFreqItemset(items=['Item = Muramana'], freq=473)\nFreqItemset(items=['Item = Bulwark of the Mountain'], freq=472)\nFreqItemset(items=['Item = Essence Reaver'], freq=471)\nFreqItemset(items=['Item = Kindlegem'], freq=469)\nFreqItemset(items=['Item = Edge of Night'], freq=441)\nFreqItemset(items=['Item = Phantom Dancer'], freq=436)\nFreqItemset(items=['Item = Ardent Censer'], freq=425)\nFreqItemset(items=['Item = Fiendish Codex'], freq=400)\nFreqItemset(items=['Item = Dagger'], freq=391)\nFreqItemset(items=[\"Item = Liandry's Torment\"], freq=381)\nFreqItemset(items=['Item = Needlessly Large Rod'], freq=378)\nFreqItemset(items=['Item = Redemption'], freq=375)\nFreqItemset(items=[\"Item = Zeke's Convergence\"], freq=374)\nFreqItemset(items=['Item = Serrated Dirk'], freq=371)\nFreqItemset(items=['Champion = Ezreal'], freq=361)\nFreqItemset(items=['Item = B. F. Sword'], freq=358)\nFreqItemset(items=['Item = Tiamat'], freq=353)\nFreqItemset(items=['Item = Pickaxe'], freq=331)\nFreqItemset(items=[\"Item = Runaan's Hurricane\"], freq=329)\nFreqItemset(items=[\"Item = Knight's Vow\"], freq=327)\nFreqItemset(items=['Item = Cloth Armor'], freq=325)\nFreqItemset(items=['Item = Gargoyle Stoneplate'], freq=321)\nFreqItemset(items=['Item = Enchantment: Cinderhulk'], freq=314)\nFreqItemset(items=['Item = Guardian Angel'], freq=311)\nFreqItemset(items=[\"Item = Caulfield's Warhammer\"], freq=303)\nFreqItemset(items=[\"Item = Sterak's Gage\"], freq=292)\nFreqItemset(items=[\"Item = Guinsoo's Rageblade\"], freq=285)\nFreqItemset(items=['Champion = Lee Sin'], freq=285)\nFreqItemset(items=['Champion = Thresh'], freq=282)\nFreqItemset(items=['Item = Forbidden Idol'], freq=274)\nFreqItemset(items=['Item = Chain Vest'], freq=272)\nFreqItemset(items=['Item = Oblivion Orb'], freq=270)\nFreqItemset(items=[\"Item = Dead Man's Plate\"], freq=266)\nFreqItemset(items=['Champion = Graves'], freq=258)\nFreqItemset(items=['Item = Rapid Firecannon'], freq=253)\nFreqItemset(items=['Champion = Aphelios'], freq=253)\nFreqItemset(items=[\"Item = Jaurim's Fist\"], freq=250)\n"
     ]
    }
   ],
   "source": [
    "model = FPGrowth.train(items_rdd, minSupport=minSupport)\n",
    "result = model.freqItemsets()\n",
    "result_sorted = result.sortBy(lambda x : (-len(x.items), -x.freq))\n",
    "fi = result_sorted.collect()\n",
    "for i in fi:\n",
    "    print(i)"
   ]
  },
  {
   "cell_type": "code",
   "execution_count": 0,
   "metadata": {
    "application/vnd.databricks.v1+cell": {
     "cellMetadata": {
      "byteLimit": 2048000,
      "rowLimit": 10000
     },
     "inputWidgets": {},
     "nuid": "26a8b44a-22f2-4e3d-9026-13fb2a140616",
     "showTitle": false,
     "title": ""
    }
   },
   "outputs": [],
   "source": [
    "from itertools import combinations\n",
    "data = items_rdd\n",
    "min_support = minSupport\n",
    "\n",
    "item_counts = data.flatMap(lambda transaction: [(item, 1) for item in transaction]).reduceByKey(lambda a, b: a + b)\n",
    "total_count = data.count()\n",
    "\n",
    "sup = int(min_support * total_count)\n",
    "freq_items = item_counts.filter(lambda x: x[1] >= sup)\n",
    "rules = []\n",
    "k = 2\n",
    "while freq_items.count() > 0:\n",
    "    rules.append(freq_items.collect())\n",
    "    candidate_counts = data.flatMap(lambda transaction: [(pair, 1) for pair in combinations(transaction, k)]).reduceByKey(lambda a, b: a + b)\n",
    "    freq_items = candidate_counts.filter(lambda x: x[1] >= sup).map(lambda x: (x[0], x[1]))\n",
    "    k += 1"
   ]
  },
  {
   "cell_type": "code",
   "execution_count": 0,
   "metadata": {
    "application/vnd.databricks.v1+cell": {
     "cellMetadata": {
      "byteLimit": 2048000,
      "rowLimit": 10000
     },
     "inputWidgets": {},
     "nuid": "0717d106-de75-4cfa-87f9-b2bacd2f4553",
     "showTitle": false,
     "title": ""
    }
   },
   "outputs": [],
   "source": [
    "min_support = minSupport\n",
    "total_count = items_rdd.count()\n",
    "sup = int(total_count * min_support)\n",
    "\n",
    "broadcasted_items = sc.broadcast(items_rdd.map(lambda x: set(x)).collect())\n",
    "def sup_filter(x):\n",
    "    x_sup = len([1 for t in broadcasted_items.value if x.issubset(t)])\n",
    "    if x_sup >= sup:\n",
    "        return x, x_sup\n",
    "    return None\n",
    "\n",
    "rules = []\n",
    "\n",
    "k = 1\n",
    "ck = items_rdd.flatMap(lambda x: set(x)).distinct().collect()\n",
    "ck = [{x} for x in ck]\n",
    "\n",
    "while len(ck) > 0:\n",
    "    fk = sc.parallelize(ck).map(sup_filter).filter(lambda x: x is not None).collect()\n",
    "    if len(fk): rules.append(fk)\n",
    "    k += 1\n",
    "    f_k_items = [item for item in map(lambda x: x[0], fk)]\n",
    "    ck = [i1 | i2 for i, i1 in enumerate(f_k_items) for i2 in f_k_items[i + 1:] if list(i1)[:k - 2] == list(i2)[:k - 2]]"
   ]
  },
  {
   "cell_type": "code",
   "execution_count": 0,
   "metadata": {
    "application/vnd.databricks.v1+cell": {
     "cellMetadata": {
      "byteLimit": 2048000,
      "rowLimit": 10000
     },
     "inputWidgets": {},
     "nuid": "d7254c67-19b2-4e01-8c51-42f6d74dc2ec",
     "showTitle": false,
     "title": ""
    }
   },
   "outputs": [
    {
     "output_type": "stream",
     "name": "stdout",
     "output_type": "stream",
     "text": [
      "[({'Perk = Oracle Lens', 'Item = Oracle Lens', 'Win = True', 'Item = Boots of Mobility', 'Spell = Flash', 'Spell = Ignite'}, 287), ({'Item = Control Ward', 'Perk = Oracle Lens', 'Item = Oracle Lens', 'Win = True', 'Spell = Flash', 'Spell = Ignite'}, 300), ({'Perk = Oracle Lens', 'Item = Oracle Lens', 'Win = False', 'Item = Enchantment: Runic Echoes', 'Spell = Flash', 'Spell = Smite'}, 263), ({\"Item = Sorcerer's Shoes\", 'Perk = Oracle Lens', 'Item = Oracle Lens', 'Item = Enchantment: Runic Echoes', 'Spell = Flash', 'Spell = Smite'}, 405), ({'Perk = Oracle Lens', 'Item = Oracle Lens', 'Win = False', 'Item = Boots of Mobility', 'Spell = Flash', 'Spell = Ignite'}, 286), ({'Item = Control Ward', 'Perk = Oracle Lens', 'Item = Oracle Lens', 'Win = False', 'Spell = Flash', 'Spell = Ignite'}, 419), ({'Item = Control Ward', 'Perk = Oracle Lens', 'Item = Oracle Lens', 'Item = Boots of Mobility', 'Spell = Flash', 'Spell = Ignite'}, 282), ({'Spell = Teleport', 'Win = True', 'Item = Warding Totem (Trinket)', 'Spell = Flash', 'Perk = Warding Totem (Trinket)', 'Item = Ninja Tabi'}, 377), ({'Win = True', 'Item = Infinity Edge', 'Perk = Farsight Alteration', 'Spell = Flash', 'Item = Farsight Alteration', \"Item = Berserker's Greaves\"}, 293), ({'Item = Enchantment: Warrior', 'Item = Warding Totem (Trinket)', 'Champion = Lee Sin', 'Spell = Flash', 'Spell = Smite', 'Perk = Warding Totem (Trinket)'}, 277), ({'Win = False', 'Item = Infinity Edge', 'Perk = Farsight Alteration', 'Spell = Flash', 'Item = Farsight Alteration', \"Item = Berserker's Greaves\"}, 281), ({'Spell = Teleport', 'Item = Warding Totem (Trinket)', 'Spell = Flash', 'Item = Black Cleaver', 'Perk = Warding Totem (Trinket)', 'Item = Ninja Tabi'}, 270)]\n"
     ]
    }
   ],
   "source": [
    "print(rules[5])"
   ]
  }
 ],
 "metadata": {
  "application/vnd.databricks.v1+notebook": {
   "dashboards": [],
   "language": "python",
   "notebookMetadata": {
    "pythonIndentUnit": 4
   },
   "notebookName": "data-miner",
   "widgets": {}
  },
  "kernelspec": {
   "display_name": "Python 2",
   "language": "python",
   "name": "python2"
  },
  "language_info": {
   "codemirror_mode": {
    "name": "ipython",
    "version": 2
   },
   "file_extension": ".py",
   "mimetype": "text/x-python",
   "name": "python",
   "nbconvert_exporter": "python",
   "pygments_lexer": "ipython2",
   "version": "2.7.12"
  },
  "orig_nbformat": 4
 },
 "nbformat": 4,
 "nbformat_minor": 0
}
